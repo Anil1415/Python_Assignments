{
 "cells": [
  {
   "cell_type": "code",
   "execution_count": null,
   "id": "5b99de5e",
   "metadata": {},
   "outputs": [],
   "source": [
    "1. Why are functions advantageous to have in your programs?\n",
    "\n",
    "SOl:\n",
    "    Having Function in the program makes it easier for the user to call any number of times.\n",
    "    Thus, it reduces repetition of same code. And easier to look into the program."
   ]
  },
  {
   "cell_type": "code",
   "execution_count": null,
   "id": "f65807be",
   "metadata": {},
   "outputs": [],
   "source": []
  },
  {
   "cell_type": "code",
   "execution_count": null,
   "id": "a6bf35f7",
   "metadata": {},
   "outputs": [],
   "source": [
    "2. \"\"\" When does the code in a function run: when it's specified or when it's called? \"\"\"\n",
    "\n",
    "Sol:\n",
    "    The code inside a function runs when it is called.And\n",
    "    when it is specified, user can define some code which can be called when needed in the same program.\n",
    "\n"
   ]
  },
  {
   "cell_type": "code",
   "execution_count": null,
   "id": "ab724926",
   "metadata": {},
   "outputs": [],
   "source": []
  },
  {
   "cell_type": "code",
   "execution_count": null,
   "id": "51f8ac45",
   "metadata": {},
   "outputs": [],
   "source": [
    "3. What statement creates a function?\n",
    "\n",
    "Sol:\n",
    "    def keyword defines a function.  \n",
    "    def keyword with function name with parathesis and : \n",
    "        \n",
    "    Code inside the function and return statement.\n",
    "    "
   ]
  },
  {
   "cell_type": "code",
   "execution_count": 1,
   "id": "d8be2675",
   "metadata": {},
   "outputs": [],
   "source": [
    "def func(a): # Here a is argumnet\n",
    "    return a"
   ]
  },
  {
   "cell_type": "code",
   "execution_count": 2,
   "id": "aa717a3b",
   "metadata": {},
   "outputs": [
    {
     "data": {
      "text/plain": [
       "3"
      ]
     },
     "execution_count": 2,
     "metadata": {},
     "output_type": "execute_result"
    }
   ],
   "source": [
    "func(3)"
   ]
  },
  {
   "cell_type": "code",
   "execution_count": null,
   "id": "15700982",
   "metadata": {},
   "outputs": [],
   "source": []
  },
  {
   "cell_type": "code",
   "execution_count": null,
   "id": "f9688ac4",
   "metadata": {},
   "outputs": [],
   "source": [
    "4. What is the difference between a function and a function call?\n",
    "\n",
    "Sol:\n",
    "    First a function should be defined and we can call that function by the function name and the parentheses.\n"
   ]
  },
  {
   "cell_type": "code",
   "execution_count": 3,
   "id": "8b161fb7",
   "metadata": {},
   "outputs": [],
   "source": [
    "# This is definining function\n",
    "def func1(a):\n",
    "    return a"
   ]
  },
  {
   "cell_type": "code",
   "execution_count": 4,
   "id": "5d139bd3",
   "metadata": {},
   "outputs": [
    {
     "data": {
      "text/plain": [
       "2"
      ]
     },
     "execution_count": 4,
     "metadata": {},
     "output_type": "execute_result"
    }
   ],
   "source": [
    "func1(2) # function calling"
   ]
  },
  {
   "cell_type": "code",
   "execution_count": null,
   "id": "7926bc52",
   "metadata": {},
   "outputs": [],
   "source": []
  },
  {
   "cell_type": "code",
   "execution_count": null,
   "id": "cf546f2f",
   "metadata": {},
   "outputs": [],
   "source": [
    "5. How many global scopes are there in a Python program?\n",
    "   How many local scopes?\n",
    "Sol:\n",
    "    ONE --> global scope: As variable is created outside of the function and is available through out the program.\n",
    "    Any -> local scope: variable defined inside the function and for every function call,\n",
    "                        you can create a new local scope. "
   ]
  },
  {
   "cell_type": "code",
   "execution_count": null,
   "id": "04e6976b",
   "metadata": {},
   "outputs": [],
   "source": []
  },
  {
   "cell_type": "code",
   "execution_count": null,
   "id": "0eaabb10",
   "metadata": {},
   "outputs": [],
   "source": [
    "6. What happens to variables in a local scope when the function call returns?\n",
    "\n",
    "Sol:\n",
    "    When a function is called each time, a new local varible is created\n",
    "    and gets destroyed after the function call returns."
   ]
  },
  {
   "cell_type": "code",
   "execution_count": null,
   "id": "79288f8f",
   "metadata": {},
   "outputs": [],
   "source": []
  },
  {
   "cell_type": "code",
   "execution_count": null,
   "id": "a51025b5",
   "metadata": {},
   "outputs": [],
   "source": [
    "7. What is the concept of a return value? Is it possible to have a return value in an expression?\n",
    "\n",
    "Sol:\n",
    "    retun can defined for functions and methods. return can not be called outside the function.\n",
    "    With the help return statement, when you call a function, it returns the results the value.\n",
    "\n",
    "    Yes, with return statement and an expression, it returns the results of the expression to the caller function."
   ]
  },
  {
   "cell_type": "code",
   "execution_count": null,
   "id": "0cadea93",
   "metadata": {},
   "outputs": [],
   "source": []
  },
  {
   "cell_type": "code",
   "execution_count": null,
   "id": "55415784",
   "metadata": {},
   "outputs": [],
   "source": [
    "8. If a function does not have a return statement, what is the return value of a call to that function?\n",
    "\n",
    "Sol:\n",
    "    When a function does not have a return statemnet, the return value of a call to that function is None\n"
   ]
  },
  {
   "cell_type": "code",
   "execution_count": 5,
   "id": "3dc8483f",
   "metadata": {},
   "outputs": [
    {
     "name": "stdout",
     "output_type": "stream",
     "text": [
      "None\n"
     ]
    }
   ],
   "source": [
    "def test(a):\n",
    "    a*2\n",
    "print(test(2))  "
   ]
  },
  {
   "cell_type": "code",
   "execution_count": 6,
   "id": "a660e390",
   "metadata": {},
   "outputs": [
    {
     "name": "stdout",
     "output_type": "stream",
     "text": [
      "4\n"
     ]
    }
   ],
   "source": [
    "def test1(a):\n",
    "    return a*2\n",
    "print(test1(2))"
   ]
  },
  {
   "cell_type": "code",
   "execution_count": null,
   "id": "f0f01e15",
   "metadata": {},
   "outputs": [],
   "source": []
  },
  {
   "cell_type": "code",
   "execution_count": null,
   "id": "5e096183",
   "metadata": {},
   "outputs": [],
   "source": [
    "9. How do you make a function variable refer to the global variable?\n",
    "\n",
    "Sol:\n",
    "    Using global keyword inside a function, you can declare the local variable as global variable."
   ]
  },
  {
   "cell_type": "code",
   "execution_count": null,
   "id": "ff9367f9",
   "metadata": {},
   "outputs": [],
   "source": []
  },
  {
   "cell_type": "code",
   "execution_count": null,
   "id": "b0b6dc91",
   "metadata": {},
   "outputs": [],
   "source": [
    "10. What is the data type of None?\n",
    "\n",
    "Sol:\n",
    "    data type of None is Nonetype"
   ]
  },
  {
   "cell_type": "code",
   "execution_count": 7,
   "id": "5fc39a64",
   "metadata": {},
   "outputs": [
    {
     "data": {
      "text/plain": [
       "NoneType"
      ]
     },
     "execution_count": 7,
     "metadata": {},
     "output_type": "execute_result"
    }
   ],
   "source": [
    "type(None)"
   ]
  },
  {
   "cell_type": "code",
   "execution_count": null,
   "id": "0ebf1a4a",
   "metadata": {},
   "outputs": [],
   "source": []
  },
  {
   "cell_type": "code",
   "execution_count": null,
   "id": "489a4051",
   "metadata": {},
   "outputs": [],
   "source": [
    "11. What does the sentence import areallyourpetsnamederic do?\n",
    "\n",
    "Sol:\n",
    "    import areallyourpetsnamederic imports the module name called \"areallyourpetsnamederic\".\n",
    "    Python does not have this module."
   ]
  },
  {
   "cell_type": "code",
   "execution_count": 8,
   "id": "bea2323b",
   "metadata": {
    "scrolled": true
   },
   "outputs": [
    {
     "ename": "ModuleNotFoundError",
     "evalue": "No module named 'areallyourpetsnamederic'",
     "output_type": "error",
     "traceback": [
      "\u001b[0;31m---------------------------------------------------------------------------\u001b[0m",
      "\u001b[0;31mModuleNotFoundError\u001b[0m                       Traceback (most recent call last)",
      "Input \u001b[0;32mIn [8]\u001b[0m, in \u001b[0;36m<cell line: 1>\u001b[0;34m()\u001b[0m\n\u001b[0;32m----> 1\u001b[0m \u001b[38;5;28;01mimport\u001b[39;00m \u001b[38;5;21;01mareallyourpetsnamederic\u001b[39;00m\n",
      "\u001b[0;31mModuleNotFoundError\u001b[0m: No module named 'areallyourpetsnamederic'"
     ]
    }
   ],
   "source": [
    "import areallyourpetsnamederic"
   ]
  },
  {
   "cell_type": "code",
   "execution_count": null,
   "id": "1dc52440",
   "metadata": {},
   "outputs": [],
   "source": []
  },
  {
   "cell_type": "code",
   "execution_count": null,
   "id": "f73f2192",
   "metadata": {},
   "outputs": [],
   "source": [
    "12. If you had a bacon() feature in a spam module, what would you call it after importing spam?\n",
    "\n",
    "Sol:\n",
    "    After importing spam, we need to call methods defined in the module."
   ]
  },
  {
   "cell_type": "code",
   "execution_count": 9,
   "id": "9f5b6747",
   "metadata": {},
   "outputs": [],
   "source": [
    "import spam"
   ]
  },
  {
   "cell_type": "code",
   "execution_count": 10,
   "id": "e1128de0",
   "metadata": {},
   "outputs": [
    {
     "name": "stdout",
     "output_type": "stream",
     "text": [
      "ham\n",
      "spam\n",
      "spam2\n"
     ]
    }
   ],
   "source": [
    "spam.bacon()"
   ]
  },
  {
   "cell_type": "code",
   "execution_count": null,
   "id": "37847679",
   "metadata": {},
   "outputs": [],
   "source": []
  },
  {
   "cell_type": "code",
   "execution_count": null,
   "id": "e1796520",
   "metadata": {},
   "outputs": [],
   "source": [
    "13. What can you do to save a programme from crashing if it encounters an error?\n",
    "\n",
    "Sol:\n",
    "    If you think that an error occurs while you code, use try-except block.\n",
    "    Whenever an occurs, it is dealt by except block."
   ]
  },
  {
   "cell_type": "code",
   "execution_count": 11,
   "id": "859bffa9",
   "metadata": {
    "scrolled": true
   },
   "outputs": [
    {
     "name": "stdout",
     "output_type": "stream",
     "text": [
      "enter an integer number: 2\n"
     ]
    }
   ],
   "source": [
    "number = int(input('enter an integer number: '))"
   ]
  },
  {
   "cell_type": "code",
   "execution_count": 12,
   "id": "63d54b65",
   "metadata": {},
   "outputs": [
    {
     "name": "stdout",
     "output_type": "stream",
     "text": [
      "enter an integer number: 3.4\n",
      "value error occured- invalid literal for int() with base 10: '3.4'\n"
     ]
    }
   ],
   "source": [
    "try:\n",
    "    number = int(input('enter an integer number: '))\n",
    "except ValueError as v:\n",
    "    print(\"value error occured-\", v)\n"
   ]
  },
  {
   "cell_type": "code",
   "execution_count": null,
   "id": "90a64010",
   "metadata": {},
   "outputs": [],
   "source": []
  },
  {
   "cell_type": "code",
   "execution_count": null,
   "id": "d1079cb2",
   "metadata": {},
   "outputs": [],
   "source": [
    "14. What is the purpose of the try clause? What is the purpose of the except clause?\n",
    "\n",
    "Sol:\n",
    "    In try except clause, try clause runs the code inside it and gives the output if no error is occured.\n",
    "    Else, if any exceptions occurs during the runtime of try clause, error type named after except keyword is matched, \n",
    "    then except clause is executed. Generally, Exception super class handles every error."
   ]
  },
  {
   "cell_type": "code",
   "execution_count": null,
   "id": "2e039410",
   "metadata": {},
   "outputs": [],
   "source": []
  }
 ],
 "metadata": {
  "kernelspec": {
   "display_name": "Python 3 (ipykernel)",
   "language": "python",
   "name": "python3"
  },
  "language_info": {
   "codemirror_mode": {
    "name": "ipython",
    "version": 3
   },
   "file_extension": ".py",
   "mimetype": "text/x-python",
   "name": "python",
   "nbconvert_exporter": "python",
   "pygments_lexer": "ipython3",
   "version": "3.9.12"
  }
 },
 "nbformat": 4,
 "nbformat_minor": 5
}

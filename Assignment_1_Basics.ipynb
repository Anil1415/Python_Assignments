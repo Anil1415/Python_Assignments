{
 "cells": [
  {
   "cell_type": "code",
   "execution_count": null,
   "id": "564177a4",
   "metadata": {},
   "outputs": [],
   "source": [
    "1. In the below elements which of them are values or an expression? eg:- values can be \n",
    "    integer or string and expressions will be mathematical operators.\n",
    "                * \n",
    "                'hello'\n",
    "                -87.8\n",
    "                - \n",
    "                / \n",
    "                +\n",
    "                6 \n",
    "\n",
    "                \n",
    "sol: \n",
    "      *, -, /, + are expressions.\n",
    "\n",
    "     -87.8, 6 are integer values. \n",
    "     \n",
    "     'hello' is a string"
   ]
  },
  {
   "cell_type": "raw",
   "id": "b85847ae",
   "metadata": {},
   "source": []
  },
  {
   "cell_type": "code",
   "execution_count": null,
   "id": "15ac1fbd",
   "metadata": {},
   "outputs": [],
   "source": [
    "2. What is the difference between string and variable?\n",
    "\n",
    "sol:\n",
    "    variables are used to store the data like strings, integers, float and complex values.\n",
    "    String is a datatype which can be enclosed between the quotes (\" or '). Using variables, strings can be stored.\n",
    "    \n",
    "    eg: a = '10', here a is a variable and '10' is a string. "
   ]
  },
  {
   "cell_type": "raw",
   "id": "74974761",
   "metadata": {},
   "source": []
  },
  {
   "cell_type": "code",
   "execution_count": null,
   "id": "93658d5a",
   "metadata": {},
   "outputs": [],
   "source": [
    "3. Describe three different data types.\n",
    "\n",
    "sol:\n",
    "    1. Numeric Datatypes (integers, float, and complex Numbers)\n",
    "    2. String and \n",
    "    3. Sequence Datatypes (List, tuples and range)  "
   ]
  },
  {
   "cell_type": "raw",
   "id": "d453a2da",
   "metadata": {},
   "source": []
  },
  {
   "cell_type": "code",
   "execution_count": null,
   "id": "527e7839",
   "metadata": {},
   "outputs": [],
   "source": [
    "4. What is an expression made up of? What do all expressions do?\n",
    "\n",
    "sol:\n",
    "    Expression is a combination of operators and operands which return the value.\n",
    "    If there are mutiple operators in an expression, the results are derived on the basis of operator precedence.  "
   ]
  },
  {
   "cell_type": "raw",
   "id": "75b8e944",
   "metadata": {},
   "source": []
  },
  {
   "cell_type": "code",
   "execution_count": null,
   "id": "9d7b75a1",
   "metadata": {},
   "outputs": [],
   "source": [
    "5. This assignment statements, like spam = 10. What is the difference between an expression and a statement?\n",
    "\n",
    "sol: Expression represents something and statement will do something.\n",
    "    Here, spam is a variable that is assigned to the value 10.\n",
    "    spam = 10 is a statement and represnets value is an expression.\n",
    "    "
   ]
  },
  {
   "cell_type": "raw",
   "id": "327728a1",
   "metadata": {},
   "source": []
  },
  {
   "cell_type": "code",
   "execution_count": null,
   "id": "6955fb3d",
   "metadata": {},
   "outputs": [],
   "source": [
    "6. After running the following code, what does the variable bacon contain?\n",
    "    bacon = 22\n",
    "    bacon + 1\n",
    "Sol:\n",
    "    The value of variable bacon is incremented by 1 which is 23"
   ]
  },
  {
   "cell_type": "code",
   "execution_count": 1,
   "id": "6be8d315",
   "metadata": {},
   "outputs": [
    {
     "data": {
      "text/plain": [
       "23"
      ]
     },
     "execution_count": 1,
     "metadata": {},
     "output_type": "execute_result"
    }
   ],
   "source": [
    "bacon = 22\n",
    "bacon + 1"
   ]
  },
  {
   "cell_type": "raw",
   "id": "9004c078",
   "metadata": {},
   "source": []
  },
  {
   "cell_type": "code",
   "execution_count": null,
   "id": "d4456e9c",
   "metadata": {},
   "outputs": [],
   "source": [
    "7. What should the values of the following two terms be?\n",
    "'spam' + 'spamspam'\n",
    "'spam' * 3\n",
    "\n",
    "Sol:\n",
    "    The first term is cancatenation of strings.\n",
    "    Second term is a string multiplied itself 3 times. \n"
   ]
  },
  {
   "cell_type": "code",
   "execution_count": 2,
   "id": "7cf3b070",
   "metadata": {},
   "outputs": [
    {
     "name": "stdout",
     "output_type": "stream",
     "text": [
      "spamspamspam\n",
      "spamspamspam\n"
     ]
    }
   ],
   "source": [
    "print('spam' + 'spamspam')\n",
    "print('spam' * 3)"
   ]
  },
  {
   "cell_type": "raw",
   "id": "ad853410",
   "metadata": {},
   "source": []
  },
  {
   "cell_type": "code",
   "execution_count": null,
   "id": "3e24212a",
   "metadata": {},
   "outputs": [],
   "source": [
    "8. Why is eggs a valid variable name while 100 is invalid?\n",
    "\n",
    "Sol:\n",
    "    variable names can start with alphabet but not with numbers."
   ]
  },
  {
   "cell_type": "raw",
   "id": "cd112a50",
   "metadata": {},
   "source": []
  },
  {
   "cell_type": "code",
   "execution_count": null,
   "id": "1ccc8cc5",
   "metadata": {},
   "outputs": [],
   "source": [
    "9. What three functions can be used to get the integer, floating-point number, or string version of a value?\n",
    "\n",
    "Sol:\n",
    "    To get the different data type, we need to use Python Built-in-Functions such as int(),float(), and str().\n",
    "    "
   ]
  },
  {
   "cell_type": "code",
   "execution_count": 3,
   "id": "54bbf039",
   "metadata": {
    "scrolled": false
   },
   "outputs": [
    {
     "name": "stdout",
     "output_type": "stream",
     "text": [
      "10\n",
      "10.1\n"
     ]
    }
   ],
   "source": [
    "a = 10.1\n",
    "\n",
    "print(int(a))\n",
    "print(float(a))"
   ]
  },
  {
   "cell_type": "code",
   "execution_count": 4,
   "id": "cd633539",
   "metadata": {},
   "outputs": [
    {
     "data": {
      "text/plain": [
       "'10.1'"
      ]
     },
     "execution_count": 4,
     "metadata": {},
     "output_type": "execute_result"
    }
   ],
   "source": [
    "a = 10.1\n",
    "str(a)"
   ]
  },
  {
   "cell_type": "raw",
   "id": "20ed4afa",
   "metadata": {},
   "source": []
  },
  {
   "cell_type": "code",
   "execution_count": null,
   "id": "b9ed9962",
   "metadata": {},
   "outputs": [],
   "source": [
    "10. Why does this expression cause an error? How can you fix it?\n",
    "'I have eaten ' + 99 + ' burritos.'\n",
    "\n",
    "Sol:\n",
    "    The above expresion tries to concatenate different data types.\n",
    "    It can be fixed by declaring 99 as string \"99\""
   ]
  },
  {
   "cell_type": "code",
   "execution_count": 5,
   "id": "d015f3dc",
   "metadata": {},
   "outputs": [
    {
     "ename": "TypeError",
     "evalue": "can only concatenate str (not \"int\") to str",
     "output_type": "error",
     "traceback": [
      "\u001b[0;31m---------------------------------------------------------------------------\u001b[0m",
      "\u001b[0;31mTypeError\u001b[0m                                 Traceback (most recent call last)",
      "Input \u001b[0;32mIn [5]\u001b[0m, in \u001b[0;36m<cell line: 1>\u001b[0;34m()\u001b[0m\n\u001b[0;32m----> 1\u001b[0m \u001b[38;5;124;43m'\u001b[39;49m\u001b[38;5;124;43mI have eaten \u001b[39;49m\u001b[38;5;124;43m'\u001b[39;49m\u001b[43m \u001b[49m\u001b[38;5;241;43m+\u001b[39;49m\u001b[43m \u001b[49m\u001b[38;5;241;43m99\u001b[39;49m \u001b[38;5;241m+\u001b[39m \u001b[38;5;124m'\u001b[39m\u001b[38;5;124m burritos.\u001b[39m\u001b[38;5;124m'\u001b[39m\n",
      "\u001b[0;31mTypeError\u001b[0m: can only concatenate str (not \"int\") to str"
     ]
    }
   ],
   "source": [
    "'I have eaten ' + 99 + ' burritos.'"
   ]
  },
  {
   "cell_type": "code",
   "execution_count": 6,
   "id": "27a110e7",
   "metadata": {},
   "outputs": [
    {
     "data": {
      "text/plain": [
       "'I have eaten 99 burritos.'"
      ]
     },
     "execution_count": 6,
     "metadata": {},
     "output_type": "execute_result"
    }
   ],
   "source": [
    "'I have eaten ' + \"99\" + ' burritos.'"
   ]
  },
  {
   "cell_type": "raw",
   "id": "556f652e",
   "metadata": {},
   "source": []
  }
 ],
 "metadata": {
  "kernelspec": {
   "display_name": "Python 3 (ipykernel)",
   "language": "python",
   "name": "python3"
  },
  "language_info": {
   "codemirror_mode": {
    "name": "ipython",
    "version": 3
   },
   "file_extension": ".py",
   "mimetype": "text/x-python",
   "name": "python",
   "nbconvert_exporter": "python",
   "pygments_lexer": "ipython3",
   "version": "3.9.12"
  }
 },
 "nbformat": 4,
 "nbformat_minor": 5
}

{
 "cells": [
  {
   "cell_type": "code",
   "execution_count": null,
   "id": "ed8a0181",
   "metadata": {},
   "outputs": [],
   "source": [
    "1. In the below elements which of them are values or an expression? eg:- values can be \n",
    "    integer or string and expressions will be mathematical operators.\n",
    "                * \n",
    "                'hello'\n",
    "                -87.8\n",
    "                - \n",
    "                / \n",
    "                +\n",
    "                6 \n",
    "\n",
    "                \n",
    "sol: \n",
    "      *, -, /, + are expressions.\n",
    "\n",
    "     -87.8, 6 are integer values. \n",
    "     \n",
    "     'hello' is a string"
   ]
  },
  {
   "cell_type": "raw",
   "id": "f39bdecd",
   "metadata": {},
   "source": []
  },
  {
   "cell_type": "code",
   "execution_count": null,
   "id": "c7bf20fb",
   "metadata": {},
   "outputs": [],
   "source": [
    "2. What is the difference between string and variable?\n",
    "\n",
    "sol:\n",
    "    variables are used to store the data like strings, integers, float and complex values.\n",
    "    String is a datatype which can be enclosed between the quotes (\" or '). Using variables, strings can be stored.\n",
    "    \n",
    "    eg: a = '10', here a is a variable and '10' is a string. "
   ]
  },
  {
   "cell_type": "raw",
   "id": "023dceba",
   "metadata": {},
   "source": []
  },
  {
   "cell_type": "code",
   "execution_count": null,
   "id": "60e24f75",
   "metadata": {},
   "outputs": [],
   "source": [
    "3. Describe three different data types.\n",
    "\n",
    "sol:\n",
    "    1. Numeric Datatypes (integers, float, and complex Numbers)\n",
    "    2. String and \n",
    "    3. Sequence Datatypes (List, tuples and range)  "
   ]
  },
  {
   "cell_type": "raw",
   "id": "4abb1035",
   "metadata": {},
   "source": []
  },
  {
   "cell_type": "code",
   "execution_count": null,
   "id": "2303d9f0",
   "metadata": {},
   "outputs": [],
   "source": [
    "4. What is an expression made up of? What do all expressions do?\n",
    "\n",
    "sol:\n",
    "    Expression is a combination of operators and operands which return the value. If there are mutiple operators in an expression, the results are derived on the basis of operator precedence.  "
   ]
  },
  {
   "cell_type": "raw",
   "id": "35723b55",
   "metadata": {},
   "source": []
  },
  {
   "cell_type": "code",
   "execution_count": null,
   "id": "209e756f",
   "metadata": {},
   "outputs": [],
   "source": [
    "5. This assignment statements, like spam = 10. What is the difference between an expression and a statement?\n",
    "\n",
    "sol: Expression represents something and statement will do something. Here, spam is a variable that is assigned to the value 10. spam = 10 is a statement and represnets value is an expression.\n",
    "    "
   ]
  },
  {
   "cell_type": "raw",
   "id": "c6905311",
   "metadata": {},
   "source": []
  },
  {
   "cell_type": "code",
   "execution_count": null,
   "id": "dbe3e82d",
   "metadata": {},
   "outputs": [],
   "source": [
    "6. After running the following code, what does the variable bacon contain?\n",
    "    bacon = 22\n",
    "    bacon + 1\n",
    "Sol:\n",
    "    The value of variable bacon is incremented by 1 which is 23"
   ]
  },
  {
   "cell_type": "code",
   "execution_count": 1,
   "id": "f00faee2",
   "metadata": {},
   "outputs": [
    {
     "data": {
      "text/plain": [
       "23"
      ]
     },
     "execution_count": 1,
     "metadata": {},
     "output_type": "execute_result"
    }
   ],
   "source": [
    "bacon = 22\n",
    "bacon + 1"
   ]
  },
  {
   "cell_type": "raw",
   "id": "420a1e4c",
   "metadata": {},
   "source": []
  },
  {
   "cell_type": "code",
   "execution_count": null,
   "id": "c3191964",
   "metadata": {},
   "outputs": [],
   "source": [
    "7. What should the values of the following two terms be?\n",
    "'spam' + 'spamspam'\n",
    "'spam' * 3\n",
    "\n",
    "Sol:\n",
    "    The first term is cancatenation of strings.\n",
    "    Second term is a string multiplied itself 3 times. \n"
   ]
  },
  {
   "cell_type": "code",
   "execution_count": 2,
   "id": "2e25053f",
   "metadata": {},
   "outputs": [
    {
     "name": "stdout",
     "output_type": "stream",
     "text": [
      "spamspamspam\n",
      "spamspamspam\n"
     ]
    }
   ],
   "source": [
    "print('spam' + 'spamspam')\n",
    "print('spam' * 3)"
   ]
  },
  {
   "cell_type": "raw",
   "id": "1574df27",
   "metadata": {},
   "source": []
  },
  {
   "cell_type": "code",
   "execution_count": null,
   "id": "088bc0ec",
   "metadata": {},
   "outputs": [],
   "source": [
    "8. Why is eggs a valid variable name while 100 is invalid?\n",
    "\n",
    "Sol:\n",
    "    variable names can start with alphabet but not with numbers."
   ]
  },
  {
   "cell_type": "raw",
   "id": "9f32a0fc",
   "metadata": {},
   "source": []
  },
  {
   "cell_type": "code",
   "execution_count": null,
   "id": "db08fdd4",
   "metadata": {},
   "outputs": [],
   "source": [
    "9. What three functions can be used to get the integer, floating-point number, or string version of a value?\n",
    "\n",
    "Sol:\n",
    "    To get the different data type, we need to use Python Built-in-Functions such as int(),float(), and str().\n",
    "    "
   ]
  },
  {
   "cell_type": "code",
   "execution_count": 3,
   "id": "172d16d1",
   "metadata": {
    "scrolled": false
   },
   "outputs": [
    {
     "name": "stdout",
     "output_type": "stream",
     "text": [
      "10\n",
      "10.1\n"
     ]
    }
   ],
   "source": [
    "a = 10.1\n",
    "\n",
    "print(int(a))\n",
    "print(float(a))"
   ]
  },
  {
   "cell_type": "code",
   "execution_count": 4,
   "id": "b13d9b73",
   "metadata": {},
   "outputs": [
    {
     "data": {
      "text/plain": [
       "'10.1'"
      ]
     },
     "execution_count": 4,
     "metadata": {},
     "output_type": "execute_result"
    }
   ],
   "source": [
    "a = 10.1\n",
    "str(a)"
   ]
  },
  {
   "cell_type": "raw",
   "id": "b4ed3fa0",
   "metadata": {},
   "source": []
  },
  {
   "cell_type": "code",
   "execution_count": null,
   "id": "6315e678",
   "metadata": {},
   "outputs": [],
   "source": [
    "10. Why does this expression cause an error? How can you fix it?\n",
    "'I have eaten ' + 99 + ' burritos.'\n",
    "\n",
    "Sol:\n",
    "    The above expresion tries to concatenate different data types. It can be fixed by declaring 99 as string \"99\""
   ]
  },
  {
   "cell_type": "code",
   "execution_count": 5,
   "id": "cc0ce2ba",
   "metadata": {},
   "outputs": [
    {
     "ename": "TypeError",
     "evalue": "can only concatenate str (not \"int\") to str",
     "output_type": "error",
     "traceback": [
      "\u001b[0;31m---------------------------------------------------------------------------\u001b[0m",
      "\u001b[0;31mTypeError\u001b[0m                                 Traceback (most recent call last)",
      "Input \u001b[0;32mIn [5]\u001b[0m, in \u001b[0;36m<cell line: 1>\u001b[0;34m()\u001b[0m\n\u001b[0;32m----> 1\u001b[0m \u001b[38;5;124;43m'\u001b[39;49m\u001b[38;5;124;43mI have eaten \u001b[39;49m\u001b[38;5;124;43m'\u001b[39;49m\u001b[43m \u001b[49m\u001b[38;5;241;43m+\u001b[39;49m\u001b[43m \u001b[49m\u001b[38;5;241;43m99\u001b[39;49m \u001b[38;5;241m+\u001b[39m \u001b[38;5;124m'\u001b[39m\u001b[38;5;124m burritos.\u001b[39m\u001b[38;5;124m'\u001b[39m\n",
      "\u001b[0;31mTypeError\u001b[0m: can only concatenate str (not \"int\") to str"
     ]
    }
   ],
   "source": [
    "'I have eaten ' + 99 + ' burritos.'"
   ]
  },
  {
   "cell_type": "code",
   "execution_count": 6,
   "id": "4d4444d0",
   "metadata": {},
   "outputs": [
    {
     "data": {
      "text/plain": [
       "'I have eaten 99 burritos.'"
      ]
     },
     "execution_count": 6,
     "metadata": {},
     "output_type": "execute_result"
    }
   ],
   "source": [
    "'I have eaten ' + \"99\" + ' burritos.'"
   ]
  },
  {
   "cell_type": "raw",
   "id": "30c3de0b",
   "metadata": {},
   "source": []
  }
 ],
 "metadata": {
  "kernelspec": {
   "display_name": "Python 3 (ipykernel)",
   "language": "python",
   "name": "python3"
  },
  "language_info": {
   "codemirror_mode": {
    "name": "ipython",
    "version": 3
   },
   "file_extension": ".py",
   "mimetype": "text/x-python",
   "name": "python",
   "nbconvert_exporter": "python",
   "pygments_lexer": "ipython3",
   "version": "3.9.12"
  }
 },
 "nbformat": 4,
 "nbformat_minor": 5
}

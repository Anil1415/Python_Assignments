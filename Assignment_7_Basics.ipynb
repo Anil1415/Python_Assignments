{
 "cells": [
  {
   "cell_type": "code",
   "execution_count": null,
   "id": "f6378807",
   "metadata": {},
   "outputs": [],
   "source": [
    "1. What is the name of the feature responsible for generating Regex objects?"
   ]
  },
  {
   "cell_type": "code",
   "execution_count": 1,
   "id": "a1779dd5",
   "metadata": {},
   "outputs": [],
   "source": [
    "# This module is used to find text patterns in given strings.\n",
    "import re"
   ]
  },
  {
   "cell_type": "code",
   "execution_count": 2,
   "id": "49fb68d9",
   "metadata": {},
   "outputs": [],
   "source": [
    "# Compile a regular expression pattern, returning a Pattern object.\n",
    "#\n",
    "#today_date = re.compile(r'dd-mm-yyyy')\n",
    "# day pattern is passed to re.compile --> pattern object called today_date.\n",
    "today_date = re.compile(r'\\d\\d-\\d\\d-\\d\\d\\d\\d')\n",
    "day = today_date.search('today is 30-12-2022')"
   ]
  },
  {
   "cell_type": "code",
   "execution_count": 3,
   "id": "2b97ff07",
   "metadata": {
    "scrolled": true
   },
   "outputs": [
    {
     "name": "stdout",
     "output_type": "stream",
     "text": [
      "Today is 30-12-2022\n"
     ]
    }
   ],
   "source": [
    "print(f\"Today is {day.group()}\")"
   ]
  },
  {
   "cell_type": "code",
   "execution_count": null,
   "id": "0aeda0f9",
   "metadata": {},
   "outputs": [],
   "source": []
  },
  {
   "cell_type": "code",
   "execution_count": null,
   "id": "0d38cd14",
   "metadata": {},
   "outputs": [],
   "source": [
    "2. Why do raw strings often appear in Regex objects?\n",
    "\n",
    "Sol:\n",
    "    Raw strings in Regrex objects helps in passing through backslash without changing the regular expression."
   ]
  },
  {
   "cell_type": "code",
   "execution_count": null,
   "id": "aab887a0",
   "metadata": {},
   "outputs": [],
   "source": []
  },
  {
   "cell_type": "code",
   "execution_count": null,
   "id": "ae19faa0",
   "metadata": {},
   "outputs": [],
   "source": [
    "3. What is the return value of the search() method?\n",
    "\n",
    "Sol:\n",
    "    search() method returns the match object if the pattern is found else returns none\n",
    "    It checks for the first match in the given string.\n",
    "    \n",
    "    syntax is re.search(pattern,string)"
   ]
  },
  {
   "cell_type": "code",
   "execution_count": 4,
   "id": "3a8f4446",
   "metadata": {},
   "outputs": [
    {
     "data": {
      "text/plain": [
       "<re.Match object; span=(3, 6), match='121'>"
      ]
     },
     "execution_count": 4,
     "metadata": {},
     "output_type": "execute_result"
    }
   ],
   "source": [
    "re.search('121', '123121214656')"
   ]
  },
  {
   "cell_type": "code",
   "execution_count": null,
   "id": "374d8a4f",
   "metadata": {},
   "outputs": [],
   "source": []
  },
  {
   "cell_type": "code",
   "execution_count": null,
   "id": "a2d7cf6b",
   "metadata": {},
   "outputs": [],
   "source": [
    "4. From a Match item, how do you get the actual strings that match the pattern?\n",
    "\n",
    "Sol:\n",
    "    match function searches for the pattern in the beginning of given string and returns the match object.\n",
    "    Syntax is re.match(pattern, string)"
   ]
  },
  {
   "cell_type": "code",
   "execution_count": 5,
   "id": "cf83f75d",
   "metadata": {},
   "outputs": [],
   "source": [
    "na= re.match('121', '121423214656')"
   ]
  },
  {
   "cell_type": "code",
   "execution_count": 6,
   "id": "894e3468",
   "metadata": {},
   "outputs": [
    {
     "name": "stdout",
     "output_type": "stream",
     "text": [
      "<re.Match object; span=(0, 3), match='121'>\n"
     ]
    }
   ],
   "source": [
    "print(na)"
   ]
  },
  {
   "cell_type": "code",
   "execution_count": null,
   "id": "dae42081",
   "metadata": {},
   "outputs": [],
   "source": []
  },
  {
   "cell_type": "code",
   "execution_count": null,
   "id": "6db27786",
   "metadata": {},
   "outputs": [],
   "source": [
    "5. In the regex which created from the r'((\\d\\d)-(\\d\\d)-\\(d\\d\\d\\d)',\n",
    "   what does group zero cover? Group 1? Group 2? Group 3?\n",
    "    \n",
    "Sol:\n",
    "    # grouping with parathesis\n",
    "        \n",
    "    If we want to separate the pattern from entire pattern, adding parenthesis creates groups in regex.      "
   ]
  },
  {
   "cell_type": "code",
   "execution_count": 7,
   "id": "35e25368",
   "metadata": {},
   "outputs": [],
   "source": [
    "#today_date = re.compile(r'dd-mm-yyyy')\n",
    "# day pattern is passed to re.compile --> pattern object called today_date.\n",
    "today_date = re.compile(r'(\\d\\d)-(\\d\\d)-(\\d\\d\\d\\d)')\n",
    "day = today_date.search('today is 30-12-2022')"
   ]
  },
  {
   "cell_type": "code",
   "execution_count": 8,
   "id": "016be719",
   "metadata": {
    "scrolled": true
   },
   "outputs": [
    {
     "name": "stdout",
     "output_type": "stream",
     "text": [
      "group 0 is :30-12-2022\n",
      "group 1 is :30\n",
      "group 2 is :12\n",
      "group 3 is :2022\n"
     ]
    }
   ],
   "source": [
    "print(f\"group 0 is :{day.group(0)}\")\n",
    "print(f\"group 1 is :{day.group(1)}\")\n",
    "print(f\"group 2 is :{day.group(2)}\")\n",
    "print(f\"group 3 is :{day.group(3)}\")"
   ]
  },
  {
   "cell_type": "code",
   "execution_count": 9,
   "id": "5d569ea7",
   "metadata": {},
   "outputs": [
    {
     "data": {
      "text/plain": [
       "('30', '12', '2022')"
      ]
     },
     "execution_count": 9,
     "metadata": {},
     "output_type": "execute_result"
    }
   ],
   "source": [
    "day.groups() # returns a tuple of values."
   ]
  },
  {
   "cell_type": "code",
   "execution_count": null,
   "id": "233af8ca",
   "metadata": {},
   "outputs": [],
   "source": []
  },
  {
   "cell_type": "code",
   "execution_count": null,
   "id": "8bd88df1",
   "metadata": {},
   "outputs": [],
   "source": [
    "6. In standard expression syntax, parentheses and intervals have distinct meanings.\n",
    "   How can you tell a regex that you want it to fit real parentheses and periods?\n",
    "    \n",
    "    Sol:\n",
    "        If we need to match the pattern with parenthesis in the given string \n",
    "        Using \\((pattern\\)), we can fit parentheses.\n",
    "        "
   ]
  },
  {
   "cell_type": "code",
   "execution_count": 10,
   "id": "27902127",
   "metadata": {},
   "outputs": [],
   "source": [
    "today_date = re.compile(r'(\\d\\d)-(\\d\\d)-(\\d\\d\\d\\d)')\n",
    "day = today_date.search('today is (30)-12-2022')"
   ]
  },
  {
   "cell_type": "code",
   "execution_count": 11,
   "id": "20960bea",
   "metadata": {},
   "outputs": [
    {
     "ename": "AttributeError",
     "evalue": "'NoneType' object has no attribute 'group'",
     "output_type": "error",
     "traceback": [
      "\u001b[0;31m---------------------------------------------------------------------------\u001b[0m",
      "\u001b[0;31mAttributeError\u001b[0m                            Traceback (most recent call last)",
      "Input \u001b[0;32mIn [11]\u001b[0m, in \u001b[0;36m<cell line: 1>\u001b[0;34m()\u001b[0m\n\u001b[0;32m----> 1\u001b[0m \u001b[38;5;28mprint\u001b[39m(\u001b[38;5;124mf\u001b[39m\u001b[38;5;124m\"\u001b[39m\u001b[38;5;124mgroup 1 is :\u001b[39m\u001b[38;5;132;01m{\u001b[39;00mday\u001b[38;5;241m.\u001b[39mgroup(\u001b[38;5;241m1\u001b[39m)\u001b[38;5;132;01m}\u001b[39;00m\u001b[38;5;124m\"\u001b[39m)\n",
      "\u001b[0;31mAttributeError\u001b[0m: 'NoneType' object has no attribute 'group'"
     ]
    }
   ],
   "source": [
    "\n",
    "print(f\"group 1 is :{day.group(1)}\")\n"
   ]
  },
  {
   "cell_type": "code",
   "execution_count": 12,
   "id": "95b3c475",
   "metadata": {},
   "outputs": [],
   "source": [
    "# here in the pattern we need date within the parenthsis.\n",
    "today_date = re.compile(r'(\\(\\d\\d\\))-(\\d\\d)-(\\d\\d\\d\\d)')\n",
    "day = today_date.search('today is (30)-12-2022')"
   ]
  },
  {
   "cell_type": "code",
   "execution_count": 13,
   "id": "df65f8ea",
   "metadata": {},
   "outputs": [
    {
     "name": "stdout",
     "output_type": "stream",
     "text": [
      "group 0 is :(30)-12-2022\n",
      "group 1 is :(30)\n",
      "group 2 is :12\n",
      "group 3 is :2022\n"
     ]
    }
   ],
   "source": [
    "print(f\"group 0 is :{day.group(0)}\")\n",
    "print(f\"group 1 is :{day.group(1)}\")\n",
    "print(f\"group 2 is :{day.group(2)}\")\n",
    "print(f\"group 3 is :{day.group(3)}\")"
   ]
  },
  {
   "cell_type": "code",
   "execution_count": 14,
   "id": "915468c4",
   "metadata": {
    "scrolled": true
   },
   "outputs": [
    {
     "name": "stdout",
     "output_type": "stream",
     "text": [
      "(30)\n"
     ]
    }
   ],
   "source": [
    "print(day.group(1))"
   ]
  },
  {
   "cell_type": "code",
   "execution_count": null,
   "id": "3e955293",
   "metadata": {},
   "outputs": [],
   "source": []
  },
  {
   "cell_type": "code",
   "execution_count": null,
   "id": "8655b612",
   "metadata": {},
   "outputs": [],
   "source": [
    "7. The findall() method returns a string list or a list of string tuples.\n",
    "   What causes it to return one of the two options?\n"
   ]
  },
  {
   "cell_type": "code",
   "execution_count": 15,
   "id": "917f62ed",
   "metadata": {},
   "outputs": [],
   "source": [
    "# no groups --> returns list of strings.\n",
    "today_date = re.compile(r'\\d\\d-\\d\\d-\\d\\d\\d\\d')\n",
    "day = today_date.findall('today is 30-12-2022 New year is 01-01-2023')"
   ]
  },
  {
   "cell_type": "code",
   "execution_count": 16,
   "id": "58c6c4cf",
   "metadata": {
    "scrolled": true
   },
   "outputs": [
    {
     "data": {
      "text/plain": [
       "['30-12-2022', '01-01-2023']"
      ]
     },
     "execution_count": 16,
     "metadata": {},
     "output_type": "execute_result"
    }
   ],
   "source": [
    "day"
   ]
  },
  {
   "cell_type": "code",
   "execution_count": 17,
   "id": "e903d2f9",
   "metadata": {},
   "outputs": [],
   "source": [
    "# with groups --> returns list of tuples of strings\n",
    "today_date = re.compile(r'(\\d\\d)-(\\d\\d)-(\\d\\d\\d\\d)')\n",
    "day = today_date.findall('today is 30-12-2022 New year is 01-01-2023')"
   ]
  },
  {
   "cell_type": "code",
   "execution_count": 18,
   "id": "fff08e0a",
   "metadata": {},
   "outputs": [
    {
     "data": {
      "text/plain": [
       "[('30', '12', '2022'), ('01', '01', '2023')]"
      ]
     },
     "execution_count": 18,
     "metadata": {},
     "output_type": "execute_result"
    }
   ],
   "source": [
    "day"
   ]
  },
  {
   "cell_type": "code",
   "execution_count": null,
   "id": "3710d7c5",
   "metadata": {},
   "outputs": [],
   "source": []
  },
  {
   "cell_type": "code",
   "execution_count": null,
   "id": "fc697e49",
   "metadata": {},
   "outputs": [],
   "source": [
    "8. In standard expressions, what does the | character mean?\n",
    "\n",
    "Sol:\n",
    "    The | character is called Pipe. It can be used to match one of many expressions.\n",
    "    Either of two will be matched and returns the matched text."
   ]
  },
  {
   "cell_type": "code",
   "execution_count": 19,
   "id": "551844f5",
   "metadata": {},
   "outputs": [],
   "source": [
    "name = re.compile(r'Hina|Tina')\n",
    "\n",
    "find = name.search('Hina and Tina are twins')"
   ]
  },
  {
   "cell_type": "code",
   "execution_count": 20,
   "id": "94de8be8",
   "metadata": {},
   "outputs": [
    {
     "data": {
      "text/plain": [
       "'Hina'"
      ]
     },
     "execution_count": 20,
     "metadata": {},
     "output_type": "execute_result"
    }
   ],
   "source": [
    "find.group()"
   ]
  },
  {
   "cell_type": "code",
   "execution_count": 21,
   "id": "0fe6a792",
   "metadata": {},
   "outputs": [
    {
     "data": {
      "text/plain": [
       "'Hina'"
      ]
     },
     "execution_count": 21,
     "metadata": {},
     "output_type": "execute_result"
    }
   ],
   "source": [
    "find = name.search('In twins, Hina plays basketball')\n",
    "find.group()"
   ]
  },
  {
   "cell_type": "code",
   "execution_count": null,
   "id": "33533d7c",
   "metadata": {},
   "outputs": [],
   "source": []
  },
  {
   "cell_type": "code",
   "execution_count": null,
   "id": "ab8f722f",
   "metadata": {},
   "outputs": [],
   "source": []
  },
  {
   "cell_type": "code",
   "execution_count": null,
   "id": "14ce8405",
   "metadata": {},
   "outputs": [],
   "source": [
    "9. In regular expressions, what does the characterm ? stand for?\n",
    "Sol:\n",
    "    The ? character matches the pattern optinal group. \n",
    "    It matches zero or one of the instances preceding this question mark."
   ]
  },
  {
   "cell_type": "code",
   "execution_count": 22,
   "id": "93b717da",
   "metadata": {},
   "outputs": [
    {
     "name": "stdout",
     "output_type": "stream",
     "text": [
      "Batman\n",
      "Batwoman\n"
     ]
    }
   ],
   "source": [
    "import re\n",
    "gender_regex = re.compile(r'Bat(wo)?man')\n",
    "a = gender_regex.search('adventures of Batman')\n",
    "print(a.group())\n",
    "b = gender_regex.search('adventures of Batwoman')\n",
    "print(b.group())"
   ]
  },
  {
   "cell_type": "code",
   "execution_count": null,
   "id": "e869c29b",
   "metadata": {},
   "outputs": [],
   "source": []
  },
  {
   "cell_type": "code",
   "execution_count": null,
   "id": "cd9412dd",
   "metadata": {},
   "outputs": [],
   "source": [
    "10.In regular expressions, what is the difference between the + and * characters?"
   ]
  },
  {
   "cell_type": "code",
   "execution_count": null,
   "id": "accbf4a8",
   "metadata": {},
   "outputs": [],
   "source": [
    "+ --> matches one or more - the group that preceding plus must appear atleast once.\n",
    "* --> matches zero or more - the group that precedes the star can be repeated agian and again."
   ]
  },
  {
   "cell_type": "code",
   "execution_count": 23,
   "id": "3cefe008",
   "metadata": {},
   "outputs": [
    {
     "name": "stdout",
     "output_type": "stream",
     "text": [
      "Batman\n",
      "Batwoman\n",
      "Batwowowoman\n"
     ]
    }
   ],
   "source": [
    "gender_regex = re.compile(r'Bat(wo)*man')\n",
    "a = gender_regex.search('adventures of Batman')\n",
    "print(a.group())\n",
    "b = gender_regex.search('adventures of Batwoman')\n",
    "print(b.group())\n",
    "c = gender_regex.search('adventures of Batwowowoman')\n",
    "print(c.group())"
   ]
  },
  {
   "cell_type": "code",
   "execution_count": 24,
   "id": "bee4f14b",
   "metadata": {},
   "outputs": [
    {
     "name": "stdout",
     "output_type": "stream",
     "text": [
      "True\n",
      "Batwoman\n",
      "Batwowowoman\n"
     ]
    }
   ],
   "source": [
    "gender_regex = re.compile(r'Bat(wo)+man')\n",
    "a = gender_regex.search('adventures of Batman')\n",
    "print(a == None)\n",
    "b = gender_regex.search('adventures of Batwoman')\n",
    "print(b.group())\n",
    "c = gender_regex.search('adventures of Batwowowoman')\n",
    "print(c.group())"
   ]
  },
  {
   "cell_type": "code",
   "execution_count": null,
   "id": "ac042e93",
   "metadata": {},
   "outputs": [],
   "source": []
  },
  {
   "cell_type": "code",
   "execution_count": null,
   "id": "325d2513",
   "metadata": {},
   "outputs": [],
   "source": [
    "11. What is the difference between {4} and {4,5} in regular expression?\n",
    "\n",
    "Sol:\n",
    "    In regular expression, \n",
    "        {4} --> matches the group 4 times\n",
    "        {4,5} --> matches the range(min, max)\n",
    "    \n",
    "    \n"
   ]
  },
  {
   "cell_type": "code",
   "execution_count": 25,
   "id": "7fd10f17",
   "metadata": {},
   "outputs": [
    {
     "data": {
      "text/plain": [
       "'OkayOkayOkay'"
      ]
     },
     "execution_count": 25,
     "metadata": {},
     "output_type": "execute_result"
    }
   ],
   "source": [
    "okay_regex = re.compile(r'(Okay){3}')\n",
    "instance1 = okay_regex.search('Okay OkayOkayOkay Okay okay')\n",
    "instance1.group()"
   ]
  },
  {
   "cell_type": "code",
   "execution_count": 26,
   "id": "4ebc4192",
   "metadata": {},
   "outputs": [
    {
     "data": {
      "text/plain": [
       "'OkayOkayOkay'"
      ]
     },
     "execution_count": 26,
     "metadata": {},
     "output_type": "execute_result"
    }
   ],
   "source": [
    "okay_regex = re.compile(r'(Okay){2,4}')\n",
    "instance1 = okay_regex.search('Okay OkayOkayOkay Okay okay')\n",
    "instance1.group()"
   ]
  },
  {
   "cell_type": "code",
   "execution_count": null,
   "id": "e3d80409",
   "metadata": {},
   "outputs": [],
   "source": []
  },
  {
   "cell_type": "code",
   "execution_count": null,
   "id": "43d40d7c",
   "metadata": {},
   "outputs": [],
   "source": [
    "12. What do you mean by the \\d, \\w, and \\s \n",
    "    shorthand character classes signify in regular expressions?\n",
    "\n",
    "Sol:\n",
    "    \\d --> Any numeric digit from 0 to 9\n",
    "    \\w --> Any letter, numeric digit, or the underscore character.\n",
    "    \\s --> Any space, tab, or newline character "
   ]
  },
  {
   "cell_type": "code",
   "execution_count": null,
   "id": "ca6bacb7",
   "metadata": {},
   "outputs": [],
   "source": []
  },
  {
   "cell_type": "code",
   "execution_count": null,
   "id": "e23ae383",
   "metadata": {},
   "outputs": [],
   "source": [
    "13. What do means by \\D, \\W, and \\S shorthand character classes signify in regular expressions?\n",
    "\n",
    "Sol:\n",
    "    \\D --> Any character that is not numeric digit from 0 to 9\n",
    "    \\W --> Any character that is not a letter, numeric digit, or the underscore character.\n",
    "    \\S --> Any character that is not a space, tab, or newline"
   ]
  },
  {
   "cell_type": "code",
   "execution_count": null,
   "id": "a37d48e9",
   "metadata": {},
   "outputs": [],
   "source": []
  },
  {
   "cell_type": "code",
   "execution_count": null,
   "id": "f3fe240c",
   "metadata": {},
   "outputs": [],
   "source": [
    "14. What is the difference between .*? and .*?\n",
    "\n",
    "Sol:\n",
    "    .* --> performs greedy match (regular expressions {a,b} will match the longest string possible)\n",
    "    .*? --> performs non greedy match (Matches the shortest string possible {a,b}?)"
   ]
  },
  {
   "cell_type": "code",
   "execution_count": 27,
   "id": "05c43111",
   "metadata": {},
   "outputs": [
    {
     "data": {
      "text/plain": [
       "'OkayOkayOkay'"
      ]
     },
     "execution_count": 27,
     "metadata": {},
     "output_type": "execute_result"
    }
   ],
   "source": [
    "# greedy match\n",
    "okay_regex = re.compile(r'(Okay){2,4}')\n",
    "instance1 = okay_regex.search('Okay OkayOkayOkay Okay okay')\n",
    "instance1.group()"
   ]
  },
  {
   "cell_type": "code",
   "execution_count": 28,
   "id": "b34df7d7",
   "metadata": {},
   "outputs": [
    {
     "data": {
      "text/plain": [
       "'OkayOkay'"
      ]
     },
     "execution_count": 28,
     "metadata": {},
     "output_type": "execute_result"
    }
   ],
   "source": [
    "okay_regex = re.compile(r'(Okay){2,4}?')\n",
    "instance1 = okay_regex.search('Okay OkayOkayOkay Okay okay')\n",
    "instance1.group()"
   ]
  },
  {
   "cell_type": "code",
   "execution_count": null,
   "id": "bb3dc284",
   "metadata": {},
   "outputs": [],
   "source": []
  },
  {
   "cell_type": "code",
   "execution_count": null,
   "id": "d184cc29",
   "metadata": {},
   "outputs": [],
   "source": [
    "15. What is the syntax for matching both numbers \n",
    "    and lowercase letters with a character class?\n",
    "\n",
    "Sol:\n",
    "     [0-9a-z] or [a-z0-9] is used to find both numbers and lowercase letters.\n",
    "   "
   ]
  },
  {
   "cell_type": "code",
   "execution_count": 29,
   "id": "a9f2071e",
   "metadata": {},
   "outputs": [
    {
     "data": {
      "text/plain": [
       "['h', 'i', 's', 'i', 's', '1', 'a']"
      ]
     },
     "execution_count": 29,
     "metadata": {},
     "output_type": "execute_result"
    }
   ],
   "source": [
    "okay_regex = re.compile(r'[0-9a-z]')\n",
    "okay_regex.findall('This is 1a') # Here T is not matched"
   ]
  },
  {
   "cell_type": "code",
   "execution_count": null,
   "id": "9a36559c",
   "metadata": {},
   "outputs": [],
   "source": []
  },
  {
   "cell_type": "code",
   "execution_count": null,
   "id": "d5992e41",
   "metadata": {},
   "outputs": [],
   "source": [
    "16. What is the procedure for making a normal expression \n",
    "    in regax case insensitive?\n",
    "    \n",
    "Sol:\n",
    "    Pass re.I or re.IGNORECASE as a second argument to re.compile() to make \n",
    "    normal expression in regrex case insensitive.    "
   ]
  },
  {
   "cell_type": "code",
   "execution_count": 30,
   "id": "6f6c3ff8",
   "metadata": {},
   "outputs": [
    {
     "name": "stdout",
     "output_type": "stream",
     "text": [
      "Delhi\n",
      "delhi\n",
      "DELHi\n"
     ]
    }
   ],
   "source": [
    "okay_regex = re.compile(r'delHi',re.IGNORECASE)\n",
    "instance1 = okay_regex.search('Capital city of India is Delhi')\n",
    "print(instance1.group())\n",
    "instance2 = okay_regex.search('Capital city of India is delhi')\n",
    "print(instance2.group())\n",
    "instance3 = okay_regex.search('Capital city of India is DELHi')\n",
    "print(instance3.group())"
   ]
  },
  {
   "cell_type": "code",
   "execution_count": null,
   "id": "cc775bb4",
   "metadata": {},
   "outputs": [],
   "source": []
  },
  {
   "cell_type": "code",
   "execution_count": null,
   "id": "1f54e2c9",
   "metadata": {},
   "outputs": [],
   "source": [
    "17. What does the . character normally match?\n",
    "    What does it match if re.DOTALL is passed as\n",
    "    2nd argument in re.compile()?\n",
    "\n",
    "Sol: .(dot) in a regular expression is called wildcard and matches any character except\n",
    "    for a new line. \n",
    "    \n",
    "    passing re.DOTALL as second argumnet accepts a new line."
   ]
  },
  {
   "cell_type": "code",
   "execution_count": 31,
   "id": "e1b725e3",
   "metadata": {},
   "outputs": [
    {
     "data": {
      "text/plain": [
       "['c',\n",
       " 'a',\n",
       " 's',\n",
       " 'h',\n",
       " ' ',\n",
       " 'm',\n",
       " 'o',\n",
       " 's',\n",
       " 'h',\n",
       " ' ',\n",
       " 'p',\n",
       " 'o',\n",
       " 's',\n",
       " 'h',\n",
       " ' ',\n",
       " 'D',\n",
       " 'e',\n",
       " 'l',\n",
       " 'h',\n",
       " 'i']"
      ]
     },
     "execution_count": 31,
     "metadata": {},
     "output_type": "execute_result"
    }
   ],
   "source": [
    "sh_regex = re.compile(r'.')\n",
    "sh_regex.findall('cash mosh posh\\n Delhi')"
   ]
  },
  {
   "cell_type": "code",
   "execution_count": 32,
   "id": "264832c1",
   "metadata": {},
   "outputs": [
    {
     "data": {
      "text/plain": [
       "['cash', 'mosh', 'posh', 'rash', ' ash', 'mash']"
      ]
     },
     "execution_count": 32,
     "metadata": {},
     "output_type": "execute_result"
    }
   ],
   "source": [
    "sh_regex = re.compile(r'..sh')\n",
    "sh_regex.findall('cash mosh posh rash  ash smash ')"
   ]
  },
  {
   "cell_type": "code",
   "execution_count": 33,
   "id": "989b6ab3",
   "metadata": {},
   "outputs": [
    {
     "data": {
      "text/plain": [
       "['Capital city of India is Delhi. \\n Mumbai is financial capital', '']"
      ]
     },
     "execution_count": 33,
     "metadata": {},
     "output_type": "execute_result"
    }
   ],
   "source": [
    "okay_regex = re.compile(r'.*',re.DOTALL)\n",
    "instance1 = okay_regex.findall('Capital city of India is Delhi. \\n Mumbai is financial capital')\n",
    "instance1"
   ]
  },
  {
   "cell_type": "code",
   "execution_count": null,
   "id": "35b649c9",
   "metadata": {},
   "outputs": [],
   "source": []
  },
  {
   "cell_type": "code",
   "execution_count": null,
   "id": "617ca745",
   "metadata": {},
   "outputs": [],
   "source": [
    "18. If numReg = re.compile(r'\\d+'), what will numRegex.sub('X', '11 drummers, 10 pipers, five rings, 4 hen') return?\n",
    "\n",
    "Sol:\n",
    "    substitute method helps in replacing string for regular expressions.\n",
    "\n",
    "    \n",
    "    '''\n",
    "    Signature: numReg.sub(repl, string, count=0)\n",
    "    Docstring: Return the string obtained by replacing the leftmost non-overlapping occurrences of pattern in string by the replacement repl.\n",
    "    Type:      builtin_function_or_method\n",
    "    '''"
   ]
  },
  {
   "cell_type": "code",
   "execution_count": 34,
   "id": "c2c33c84",
   "metadata": {},
   "outputs": [
    {
     "data": {
      "text/plain": [
       "'X drummers, X pipers, five rings, X hen'"
      ]
     },
     "execution_count": 34,
     "metadata": {},
     "output_type": "execute_result"
    }
   ],
   "source": [
    "numReg = re.compile(r'\\d+')\n",
    "numReg.sub('X', '11 drummers, 10 pipers, five rings, 4 hen')"
   ]
  },
  {
   "cell_type": "code",
   "execution_count": null,
   "id": "078f177e",
   "metadata": {},
   "outputs": [],
   "source": []
  },
  {
   "cell_type": "code",
   "execution_count": null,
   "id": "25f6e96d",
   "metadata": {},
   "outputs": [],
   "source": [
    "19. What does passing re.VERBOSE as the 2nd argument to\n",
    "    re.compile() allow to do?\n",
    "Sol:\n",
    "    To ignore white space and comments inside regular expression string.\n"
   ]
  },
  {
   "cell_type": "code",
   "execution_count": null,
   "id": "47f8f55d",
   "metadata": {},
   "outputs": [],
   "source": []
  },
  {
   "cell_type": "code",
   "execution_count": null,
   "id": "42fd83f8",
   "metadata": {},
   "outputs": [],
   "source": [
    "20. How would you write a regex that match a number with comma for every three digits? \n",
    "    It must match the given following:\n",
    "    '42'\n",
    "    '1,234'\n",
    "    '6,368,745'\n",
    "    but not the following:\n",
    "    '12,34,567' (which has only two digits between the commas)\n",
    "    '1234' (which lacks commas)\n",
    "\n"
   ]
  },
  {
   "cell_type": "code",
   "execution_count": 35,
   "id": "1927941c",
   "metadata": {},
   "outputs": [
    {
     "name": "stdout",
     "output_type": "stream",
     "text": [
      "['']\n",
      "[',234']\n",
      "[',745']\n",
      "[]\n",
      "[]\n"
     ]
    }
   ],
   "source": [
    "number = re.compile(r'^\\d{1,3}(,\\d{3})*$')\n",
    "print(number.findall('42'))\n",
    "print(number.findall('1,234'))\n",
    "print(number.findall('6,368,745'))\n",
    "print(number.findall('12,34,567'))\n",
    "print(number.findall('1234'))"
   ]
  },
  {
   "cell_type": "code",
   "execution_count": null,
   "id": "7b387a31",
   "metadata": {},
   "outputs": [],
   "source": []
  },
  {
   "cell_type": "code",
   "execution_count": null,
   "id": "699b9bf4",
   "metadata": {},
   "outputs": [],
   "source": [
    "21. How would you write a regex that matches the full name of someone whose last name is Watanabe?\n",
    "    You can assume that the first name that comes before it will always be one word that begins with \n",
    "    a capital letter. The regex must match the following:\n",
    "        \n",
    "        \n",
    "    'Haruto Watanabe'\n",
    "    'Alice Watanabe'\n",
    "    'RoboCop Watanabe'\n",
    "    but not the following:\n",
    "    'haruto Watanabe' (where the first name is not capitalized)\n",
    "    'Mr. Watanabe' (where the preceding word has a nonletter character)\n",
    "    'Watanabe' (which has no first name)\n",
    "    'Haruto watanabe' (where Watanabe is not capitalized)"
   ]
  },
  {
   "cell_type": "code",
   "execution_count": 36,
   "id": "2be60ba4",
   "metadata": {},
   "outputs": [
    {
     "name": "stdout",
     "output_type": "stream",
     "text": [
      "['Haruto Watanabe']\n",
      "['Alice Watanabe']\n",
      "['Cop Watanabe']\n",
      "[]\n",
      "[]\n",
      "[]\n",
      "[]\n"
     ]
    }
   ],
   "source": [
    "name = re.compile(r'[A-Z][a-z]*\\sWatanabe')\n",
    "print(name.findall('Haruto Watanabe'))\n",
    "print(name.findall('Alice Watanabe'))\n",
    "print(name.findall('RoboCop Watanabe'))\n",
    "print(name.findall('Mr. Watanabe'))\n",
    "print(name.findall('Watanabe'))\n",
    "print(name.findall('haruto Watanabe'))\n",
    "print(name.findall('Haruto watanabe'))"
   ]
  },
  {
   "cell_type": "code",
   "execution_count": null,
   "id": "75d25abb",
   "metadata": {},
   "outputs": [],
   "source": []
  },
  {
   "cell_type": "code",
   "execution_count": null,
   "id": "7813f8ef",
   "metadata": {},
   "outputs": [],
   "source": [
    "22. How would you write a regex that matches a sentence where the first word is either Alice, Bob, or Carol;\n",
    "    the second word is either eats, pets, or throws; the third word is apples, cats, or baseballs; \n",
    "    and the sentence ends with a period? This regex should be case-insensitive. It must match the following:\n",
    "        \n",
    "        \n",
    "    'Alice eats apples.'\n",
    "    'Bob pets cats.'\n",
    "    'Carol throws baseballs.'\n",
    "    'Alice throws Apples.'\n",
    "    'BOB EATS CATS.'\n",
    "    but not the following:\n",
    "    'RoboCop eats apples.'\n",
    "    'ALICE THROWS FOOTBALLS.'\n",
    "    'Carol eats 7 cats.'"
   ]
  },
  {
   "cell_type": "code",
   "execution_count": 37,
   "id": "90725d39",
   "metadata": {},
   "outputs": [
    {
     "name": "stdout",
     "output_type": "stream",
     "text": [
      "[('Alice', 'eats', 'apples')]\n",
      "[('Bob', 'pets', 'cats')]\n",
      "[('Carol', 'throws', 'baseballs')]\n",
      "[('Alice', 'throws', 'Apples')]\n",
      "[('BOB', 'EATS', 'CATS')]\n",
      "[]\n",
      "[]\n",
      "[]\n"
     ]
    }
   ],
   "source": [
    "action = re.compile(r'(Alice|Bob|Carol)\\s(eats|pets|throws)\\s(apples|cats|baseballs)\\.', re.IGNORECASE)\n",
    "print(action.findall('Alice eats apples.'))\n",
    "print(action.findall('Bob pets cats.'))\n",
    "print(action.findall('Carol throws baseballs.'))\n",
    "print(action.findall('Alice throws Apples.'))\n",
    "print(action.findall('BOB EATS CATS.'))\n",
    "print(action.findall('RoboCop eats apples.'))\n",
    "print(action.findall('ALICE THROWS FOOTBALLS.'))\n",
    "print(action.findall('Carol eats 7 cats.'))\n"
   ]
  },
  {
   "cell_type": "code",
   "execution_count": null,
   "id": "846ad73f",
   "metadata": {},
   "outputs": [],
   "source": []
  }
 ],
 "metadata": {
  "kernelspec": {
   "display_name": "Python 3 (ipykernel)",
   "language": "python",
   "name": "python3"
  },
  "language_info": {
   "codemirror_mode": {
    "name": "ipython",
    "version": 3
   },
   "file_extension": ".py",
   "mimetype": "text/x-python",
   "name": "python",
   "nbconvert_exporter": "python",
   "pygments_lexer": "ipython3",
   "version": "3.9.12"
  }
 },
 "nbformat": 4,
 "nbformat_minor": 5
}

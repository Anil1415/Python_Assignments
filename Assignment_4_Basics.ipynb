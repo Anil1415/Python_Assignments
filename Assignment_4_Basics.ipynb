{
 "cells": [
  {
   "cell_type": "code",
   "execution_count": null,
   "id": "5266d3de",
   "metadata": {},
   "outputs": [],
   "source": [
    "1. What exactly is []?\n",
    "\n",
    "Sol: [] is :\n",
    "        \n",
    "    1. Used to define create list and  [] with no elements is an empty list.\n",
    "    2. To retrive a data from list using indexes.\n",
    "    3. Can accesss a sinle character in the string.\n",
    "    4. To search for value from given dictionary key.\n",
    "    "
   ]
  },
  {
   "cell_type": "code",
   "execution_count": null,
   "id": "fb9a4ba1",
   "metadata": {},
   "outputs": [],
   "source": []
  },
  {
   "cell_type": "code",
   "execution_count": null,
   "id": "aee42644",
   "metadata": {},
   "outputs": [],
   "source": [
    "2. In a list of values stored in a variable called spam,\n",
    "how would you assign the value 'hello' as the third value? (Assume [2, 4, 6, 8, 10] are in spam.)\n",
    "Let's pretend the spam includes the list ['a', 'b', 'c', 'd'] for the next three queries.\n",
    "\n",
    "Sol:\n",
    "    can replace using the index of the element."
   ]
  },
  {
   "cell_type": "code",
   "execution_count": 1,
   "id": "f991d021",
   "metadata": {},
   "outputs": [
    {
     "data": {
      "text/plain": [
       "[2, 4, 'hello', 8, 10]"
      ]
     },
     "execution_count": 1,
     "metadata": {},
     "output_type": "execute_result"
    }
   ],
   "source": [
    "spam = [2,4,6,8,10]\n",
    "spam[2] = 'hello'\n",
    "spam"
   ]
  },
  {
   "cell_type": "code",
   "execution_count": 2,
   "id": "1afabafb",
   "metadata": {},
   "outputs": [],
   "source": [
    " spam1 = ['a', 'b', 'c', 'd']"
   ]
  },
  {
   "cell_type": "code",
   "execution_count": 3,
   "id": "cffa972b",
   "metadata": {},
   "outputs": [
    {
     "data": {
      "text/plain": [
       "['a', 'b', 'hello', 'd']"
      ]
     },
     "execution_count": 3,
     "metadata": {},
     "output_type": "execute_result"
    }
   ],
   "source": [
    "spam1 = ['a', 'b', 'c', 'd']\n",
    "spam1[2] = 'hello'\n",
    "spam1"
   ]
  },
  {
   "cell_type": "code",
   "execution_count": null,
   "id": "482dc290",
   "metadata": {},
   "outputs": [],
   "source": [
    "3. What is the value of spam[int(int('3' * 2) / 11)]?\n",
    "\n",
    "Sol:\n",
    "    Python Operators Precedence Rule - PEMDAS\n",
    "                    P – Parentheses.\n",
    "                    E – Exponentiation.\n",
    "                    M – Multiplication.\n",
    "                    D – Division.\n",
    "                    A – Addition.\n",
    "                    S – Subtraction.\n",
    "    In the above expression, in the first parathesis string multiplication results in '33'-->int('33')-->33.\n",
    "    Then Division by 11 --> 3 --> spam[3] --> 8"
   ]
  },
  {
   "cell_type": "code",
   "execution_count": 4,
   "id": "1aed59a5",
   "metadata": {},
   "outputs": [
    {
     "data": {
      "text/plain": [
       "8"
      ]
     },
     "execution_count": 4,
     "metadata": {},
     "output_type": "execute_result"
    }
   ],
   "source": [
    "spam[int(int('3' * 2) / 11)]"
   ]
  },
  {
   "cell_type": "code",
   "execution_count": 5,
   "id": "6c5096bb",
   "metadata": {},
   "outputs": [
    {
     "data": {
      "text/plain": [
       "'d'"
      ]
     },
     "execution_count": 5,
     "metadata": {},
     "output_type": "execute_result"
    }
   ],
   "source": [
    "spam1[int(int('3' * 2) / 11)]"
   ]
  },
  {
   "cell_type": "code",
   "execution_count": null,
   "id": "2a57928a",
   "metadata": {},
   "outputs": [],
   "source": []
  },
  {
   "cell_type": "code",
   "execution_count": null,
   "id": "8d47f655",
   "metadata": {},
   "outputs": [],
   "source": [
    "4. What is the value of spam[-1]?\n",
    "\n",
    "Sol:\n",
    "    Using negative index to count from end of the list."
   ]
  },
  {
   "cell_type": "code",
   "execution_count": 6,
   "id": "ca28ed0e",
   "metadata": {},
   "outputs": [
    {
     "data": {
      "text/plain": [
       "10"
      ]
     },
     "execution_count": 6,
     "metadata": {},
     "output_type": "execute_result"
    }
   ],
   "source": [
    " spam[-1]"
   ]
  },
  {
   "cell_type": "code",
   "execution_count": 7,
   "id": "0f07e11e",
   "metadata": {},
   "outputs": [
    {
     "data": {
      "text/plain": [
       "'d'"
      ]
     },
     "execution_count": 7,
     "metadata": {},
     "output_type": "execute_result"
    }
   ],
   "source": [
    "spam1[-1]"
   ]
  },
  {
   "cell_type": "code",
   "execution_count": null,
   "id": "c3faf12b",
   "metadata": {},
   "outputs": [],
   "source": []
  },
  {
   "cell_type": "code",
   "execution_count": null,
   "id": "8d04d414",
   "metadata": {},
   "outputs": [],
   "source": [
    "5. What is the value of spam[:2]?\n",
    "Let's pretend bacon has the list [3.14, 'cat',11, 'cat', True] for the next three questions.\n"
   ]
  },
  {
   "cell_type": "code",
   "execution_count": 8,
   "id": "b351d3e8",
   "metadata": {},
   "outputs": [],
   "source": [
    "bacon = [3.14, 'cat', 11, 'cat', True]"
   ]
  },
  {
   "cell_type": "code",
   "execution_count": 9,
   "id": "c020d0ea",
   "metadata": {},
   "outputs": [
    {
     "data": {
      "text/plain": [
       "[2, 4, 'hello', 8, 10]"
      ]
     },
     "execution_count": 9,
     "metadata": {},
     "output_type": "execute_result"
    }
   ],
   "source": [
    "spam"
   ]
  },
  {
   "cell_type": "code",
   "execution_count": 10,
   "id": "7004dee5",
   "metadata": {},
   "outputs": [
    {
     "data": {
      "text/plain": [
       "[2, 4]"
      ]
     },
     "execution_count": 10,
     "metadata": {},
     "output_type": "execute_result"
    }
   ],
   "source": [
    "spam[:2]"
   ]
  },
  {
   "cell_type": "code",
   "execution_count": 11,
   "id": "57f616f1",
   "metadata": {},
   "outputs": [
    {
     "data": {
      "text/plain": [
       "[3.14, 'cat']"
      ]
     },
     "execution_count": 11,
     "metadata": {},
     "output_type": "execute_result"
    }
   ],
   "source": [
    "bacon[:2]"
   ]
  },
  {
   "cell_type": "code",
   "execution_count": null,
   "id": "1e3149df",
   "metadata": {},
   "outputs": [],
   "source": []
  },
  {
   "cell_type": "code",
   "execution_count": null,
   "id": "5a5eaae0",
   "metadata": {},
   "outputs": [],
   "source": [
    "6. What is the value of bacon.index('cat')?\n",
    "\n",
    "Sol:\n",
    "    list.index(slef, value) --> returns the first index value."
   ]
  },
  {
   "cell_type": "code",
   "execution_count": 12,
   "id": "f2a9c647",
   "metadata": {},
   "outputs": [
    {
     "data": {
      "text/plain": [
       "1"
      ]
     },
     "execution_count": 12,
     "metadata": {},
     "output_type": "execute_result"
    }
   ],
   "source": [
    "bacon.index('cat')"
   ]
  },
  {
   "cell_type": "code",
   "execution_count": null,
   "id": "815a6380",
   "metadata": {},
   "outputs": [],
   "source": [
    "7. How does bacon.append(99) change the look of the list value in bacon?\n",
    "\n",
    "Sol:\n",
    "    list.append(self,object) --> append the value at the end of the list."
   ]
  },
  {
   "cell_type": "code",
   "execution_count": 13,
   "id": "9cef230e",
   "metadata": {},
   "outputs": [],
   "source": [
    "bacon.append(99)"
   ]
  },
  {
   "cell_type": "code",
   "execution_count": 14,
   "id": "653795d5",
   "metadata": {},
   "outputs": [
    {
     "data": {
      "text/plain": [
       "[3.14, 'cat', 11, 'cat', True, 99]"
      ]
     },
     "execution_count": 14,
     "metadata": {},
     "output_type": "execute_result"
    }
   ],
   "source": [
    "bacon"
   ]
  },
  {
   "cell_type": "code",
   "execution_count": null,
   "id": "7b754159",
   "metadata": {},
   "outputs": [],
   "source": []
  },
  {
   "cell_type": "code",
   "execution_count": null,
   "id": "cdd4ad64",
   "metadata": {},
   "outputs": [],
   "source": [
    "8. How does bacon.remove('cat') change the look of the list in bacon?\n",
    "\n",
    "Sol: \n",
    "    list.remove(value) --> removes the first occurence value."
   ]
  },
  {
   "cell_type": "code",
   "execution_count": 15,
   "id": "0c711743",
   "metadata": {},
   "outputs": [],
   "source": [
    "bacon.remove('cat')"
   ]
  },
  {
   "cell_type": "code",
   "execution_count": 16,
   "id": "ef497393",
   "metadata": {},
   "outputs": [
    {
     "data": {
      "text/plain": [
       "[3.14, 11, 'cat', True, 99]"
      ]
     },
     "execution_count": 16,
     "metadata": {},
     "output_type": "execute_result"
    }
   ],
   "source": [
    "bacon"
   ]
  },
  {
   "cell_type": "code",
   "execution_count": null,
   "id": "334cfe98",
   "metadata": {},
   "outputs": [],
   "source": []
  },
  {
   "cell_type": "code",
   "execution_count": null,
   "id": "71274a5c",
   "metadata": {},
   "outputs": [],
   "source": [
    "9. What are the list concatenation and list replication operators?\n",
    "\n",
    "Sol:\n",
    "    for list concatenation --> +, (like string concatenation)\n",
    "    for list replication --> *, (like string multiplication)"
   ]
  },
  {
   "cell_type": "code",
   "execution_count": 17,
   "id": "45fc7b1d",
   "metadata": {},
   "outputs": [],
   "source": [
    "l1 = [1,2,3,4]\n",
    "l2 = [6,7,8,9]\n"
   ]
  },
  {
   "cell_type": "code",
   "execution_count": 18,
   "id": "f840fd6f",
   "metadata": {},
   "outputs": [
    {
     "data": {
      "text/plain": [
       "[1, 2, 3, 4, 6, 7, 8, 9]"
      ]
     },
     "execution_count": 18,
     "metadata": {},
     "output_type": "execute_result"
    }
   ],
   "source": [
    "l1+l2 # list concatenation"
   ]
  },
  {
   "cell_type": "code",
   "execution_count": 19,
   "id": "bd8f32c5",
   "metadata": {},
   "outputs": [
    {
     "data": {
      "text/plain": [
       "[1, 2, 3, 4, 1, 2, 3, 4, 1, 2, 3, 4]"
      ]
     },
     "execution_count": 19,
     "metadata": {},
     "output_type": "execute_result"
    }
   ],
   "source": [
    "l1*3 #list replication"
   ]
  },
  {
   "cell_type": "code",
   "execution_count": null,
   "id": "65d80a3c",
   "metadata": {},
   "outputs": [],
   "source": []
  },
  {
   "cell_type": "code",
   "execution_count": null,
   "id": "6629c9fa",
   "metadata": {},
   "outputs": [],
   "source": [
    "10. What is difference between the list methods append() and insert()?\n",
    "\n",
    "Sol:\n",
    "    append --> add an element to the end of list. list.append(object)\n",
    "    insert --> inserts element before the indext. # list.insert(index,object) #"
   ]
  },
  {
   "cell_type": "code",
   "execution_count": 20,
   "id": "946d9f45",
   "metadata": {},
   "outputs": [
    {
     "data": {
      "text/plain": [
       "[1, 2, 3, 4, 6]"
      ]
     },
     "execution_count": 20,
     "metadata": {},
     "output_type": "execute_result"
    }
   ],
   "source": [
    "l1.append(6)\n",
    "l1"
   ]
  },
  {
   "cell_type": "code",
   "execution_count": 21,
   "id": "e8aad0cb",
   "metadata": {},
   "outputs": [
    {
     "data": {
      "text/plain": [
       "[6, 2, 7, 8, 9]"
      ]
     },
     "execution_count": 21,
     "metadata": {},
     "output_type": "execute_result"
    }
   ],
   "source": [
    "l2.insert(1,2)\n",
    "l2"
   ]
  },
  {
   "cell_type": "code",
   "execution_count": null,
   "id": "5322ef5e",
   "metadata": {},
   "outputs": [],
   "source": []
  },
  {
   "cell_type": "code",
   "execution_count": null,
   "id": "999f870e",
   "metadata": {},
   "outputs": [],
   "source": [
    "11. What are the two methods for removing items from a list?\n",
    "\n",
    "Sol: \n",
    "    remove --> remove the first occurence of the value\n",
    "    pop --> Remove and return item at index (default last) or any specified index value.\n"
   ]
  },
  {
   "cell_type": "code",
   "execution_count": 22,
   "id": "1d65ba0e",
   "metadata": {},
   "outputs": [
    {
     "data": {
      "text/plain": [
       "[1, 3, 4, 6]"
      ]
     },
     "execution_count": 22,
     "metadata": {},
     "output_type": "execute_result"
    }
   ],
   "source": [
    "l1.remove(2)\n",
    "l1"
   ]
  },
  {
   "cell_type": "code",
   "execution_count": 23,
   "id": "1bb482bd",
   "metadata": {},
   "outputs": [
    {
     "data": {
      "text/plain": [
       "[3, 4, 6]"
      ]
     },
     "execution_count": 23,
     "metadata": {},
     "output_type": "execute_result"
    }
   ],
   "source": [
    "l1.pop(0)\n",
    "l1"
   ]
  },
  {
   "cell_type": "code",
   "execution_count": null,
   "id": "41c17be6",
   "metadata": {},
   "outputs": [],
   "source": []
  },
  {
   "cell_type": "code",
   "execution_count": null,
   "id": "efb929d3",
   "metadata": {},
   "outputs": [],
   "source": [
    "12. Describe how list values and string values are identical.\n",
    "\n",
    "Sol: list --> It is a sequence of items (each element can be anything)\n",
    "    string --> It is a sequence of characters between single or double quotes.\n",
    "    \n",
    "    1. Both strings and list have lengths.\n",
    "       The length of string is number of characters in the string and for list, \n",
    "        it is number of items in the list.\n",
    "    2. can be refered by index operation.\n",
    "    3. can be looped in for loop. \n",
    "    4. strings are immutable but list is mutable\n",
    "    5. can check characters in string and elements in the list\n",
    "       with the help of in and not in operators.\n",
    "    \n",
    "    "
   ]
  },
  {
   "cell_type": "code",
   "execution_count": null,
   "id": "bf8685eb",
   "metadata": {},
   "outputs": [],
   "source": []
  },
  {
   "cell_type": "code",
   "execution_count": null,
   "id": "7d9258af",
   "metadata": {},
   "outputs": [],
   "source": [
    "13. What's the difference between tuples and lists?\n",
    "\n",
    "Sol: lists are mutable(values can be changed) and expressed as [] and \n",
    "     tuples are immutable(cannot change the values inside tuples) and expressed as () "
   ]
  },
  {
   "cell_type": "code",
   "execution_count": null,
   "id": "1907d80e",
   "metadata": {},
   "outputs": [],
   "source": []
  },
  {
   "cell_type": "code",
   "execution_count": null,
   "id": "72b8b602",
   "metadata": {
    "scrolled": true
   },
   "outputs": [],
   "source": [
    "14. How do you type a tuple value that only contains the integer 42?\n"
   ]
  },
  {
   "cell_type": "code",
   "execution_count": 24,
   "id": "b93ee681",
   "metadata": {},
   "outputs": [
    {
     "data": {
      "text/plain": [
       "(42,)"
      ]
     },
     "execution_count": 24,
     "metadata": {},
     "output_type": "execute_result"
    }
   ],
   "source": [
    "t1 = (42,)\n",
    "t1"
   ]
  },
  {
   "cell_type": "code",
   "execution_count": null,
   "id": "b4726924",
   "metadata": {},
   "outputs": [],
   "source": []
  },
  {
   "cell_type": "code",
   "execution_count": null,
   "id": "ef37779c",
   "metadata": {},
   "outputs": [],
   "source": [
    "15. \"\"\" How do you get a list value's tuple form? How do you get a tuple value's list form? \"\"\""
   ]
  },
  {
   "cell_type": "code",
   "execution_count": 25,
   "id": "5c141507",
   "metadata": {},
   "outputs": [],
   "source": [
    "l1 = [1,2,3,4] #list\n",
    "t1 = (5,6,7,8) #tuple"
   ]
  },
  {
   "cell_type": "code",
   "execution_count": 26,
   "id": "ffeaaebb",
   "metadata": {},
   "outputs": [
    {
     "data": {
      "text/plain": [
       "(1, 2, 3, 4)"
      ]
     },
     "execution_count": 26,
     "metadata": {},
     "output_type": "execute_result"
    }
   ],
   "source": [
    "tuple(l1) "
   ]
  },
  {
   "cell_type": "code",
   "execution_count": 27,
   "id": "9bca086e",
   "metadata": {},
   "outputs": [
    {
     "data": {
      "text/plain": [
       "[5, 6, 7, 8]"
      ]
     },
     "execution_count": 27,
     "metadata": {},
     "output_type": "execute_result"
    }
   ],
   "source": [
    "list(t1)"
   ]
  },
  {
   "cell_type": "code",
   "execution_count": null,
   "id": "aac3ce07",
   "metadata": {},
   "outputs": [],
   "source": []
  },
  {
   "cell_type": "code",
   "execution_count": null,
   "id": "4fdefadd",
   "metadata": {},
   "outputs": [],
   "source": [
    "16. Variables that \"contain\" list values are not necessarily lists themselves. Instead, what do they contain?\n",
    "\n",
    "Sol:\n",
    "    Variables assigned to list will have references instead of list values. \n",
    "    For mutable datatypes, references are used and for strings and integers values, \n",
    "    variable stores the values itself."
   ]
  },
  {
   "cell_type": "code",
   "execution_count": 28,
   "id": "6a822f4b",
   "metadata": {},
   "outputs": [],
   "source": [
    "l1  = [1,2,3]\n",
    "l = l1\n",
    "l[1] ='a'"
   ]
  },
  {
   "cell_type": "code",
   "execution_count": 29,
   "id": "7c85f345",
   "metadata": {},
   "outputs": [
    {
     "name": "stdout",
     "output_type": "stream",
     "text": [
      "l is [1, 'a', 3] and id is 140515224720896\n",
      "l1 is [1, 'a', 3] and id is 140515224720896\n"
     ]
    }
   ],
   "source": [
    "# Both the list values and id's are same\n",
    "print(f\"l is {l} and id is {id(l)}\")\n",
    "print(f\"l1 is {l1} and id is {id(l1)}\") "
   ]
  },
  {
   "cell_type": "code",
   "execution_count": null,
   "id": "8f03b3c9",
   "metadata": {},
   "outputs": [],
   "source": []
  },
  {
   "cell_type": "code",
   "execution_count": null,
   "id": "e5b2ac07",
   "metadata": {},
   "outputs": [],
   "source": []
  },
  {
   "cell_type": "code",
   "execution_count": null,
   "id": "265c3b92",
   "metadata": {},
   "outputs": [],
   "source": [
    "17. How do you distinguish between copy.copy() and copy.deepcopy()?\n",
    "\n",
    "Sol: copy is a module name and the copy() function call is used for keeping the one of list values as same \n",
    "    and storing the new assigned values in another variable with different references\n",
    "    and when changes made in one of the lists, it reflects in another list.\n",
    "    \n",
    "    \n",
    "     and with deepcopy() function, even whenever list objects changed in one of the lists, \n",
    "        it will not reflect changes in another list"
   ]
  },
  {
   "cell_type": "markdown",
   "id": "0111a303",
   "metadata": {},
   "source": [
    "# copy()"
   ]
  },
  {
   "cell_type": "code",
   "execution_count": 30,
   "id": "8229a75b",
   "metadata": {},
   "outputs": [],
   "source": [
    "import copy\n",
    "l = [[1, 2, 3], [4, 5, 6], [7, 8, 9]]\n",
    "l1 = copy.copy(l)\n"
   ]
  },
  {
   "cell_type": "code",
   "execution_count": 31,
   "id": "1f41b046",
   "metadata": {},
   "outputs": [
    {
     "data": {
      "text/plain": [
       "[[1, 2, 3], [4, 5, 6], [7, 8, 9]]"
      ]
     },
     "execution_count": 31,
     "metadata": {},
     "output_type": "execute_result"
    }
   ],
   "source": [
    "l1"
   ]
  },
  {
   "cell_type": "code",
   "execution_count": 32,
   "id": "74656480",
   "metadata": {},
   "outputs": [
    {
     "data": {
      "text/plain": [
       "[[1, 2, 3], [4, 5, 6], [7, 8, 9], ['anil']]"
      ]
     },
     "execution_count": 32,
     "metadata": {},
     "output_type": "execute_result"
    }
   ],
   "source": [
    "l.append(['anil'])\n",
    "l"
   ]
  },
  {
   "cell_type": "code",
   "execution_count": 33,
   "id": "1ca62c84",
   "metadata": {},
   "outputs": [
    {
     "data": {
      "text/plain": [
       "[[1, 2, 3], [4, 5, 6], [7, 8, 9]]"
      ]
     },
     "execution_count": 33,
     "metadata": {},
     "output_type": "execute_result"
    }
   ],
   "source": [
    "l1"
   ]
  },
  {
   "cell_type": "code",
   "execution_count": 34,
   "id": "5791742c",
   "metadata": {},
   "outputs": [],
   "source": [
    "l[1][0] = 'x'"
   ]
  },
  {
   "cell_type": "code",
   "execution_count": 35,
   "id": "48e6198b",
   "metadata": {},
   "outputs": [
    {
     "data": {
      "text/plain": [
       "[[1, 2, 3], ['x', 5, 6], [7, 8, 9], ['anil']]"
      ]
     },
     "execution_count": 35,
     "metadata": {},
     "output_type": "execute_result"
    }
   ],
   "source": [
    "l"
   ]
  },
  {
   "cell_type": "code",
   "execution_count": 36,
   "id": "c1778d29",
   "metadata": {},
   "outputs": [
    {
     "data": {
      "text/plain": [
       "[[1, 2, 3], ['x', 5, 6], [7, 8, 9]]"
      ]
     },
     "execution_count": 36,
     "metadata": {},
     "output_type": "execute_result"
    }
   ],
   "source": [
    "l1"
   ]
  },
  {
   "cell_type": "code",
   "execution_count": 37,
   "id": "f3ab6aea",
   "metadata": {},
   "outputs": [
    {
     "name": "stdout",
     "output_type": "stream",
     "text": [
      "l is [[1, 2, 3], ['x', 5, 6], [7, 8, 9], ['anil']] and id is 140515224722048\n",
      "l1 is [[1, 2, 3], ['x', 5, 6], [7, 8, 9]] and id is 140515224722112\n"
     ]
    }
   ],
   "source": [
    "#  the list values are same and id's are not the same.\n",
    "print(f\"l is {l} and id is {id(l)}\")\n",
    "print(f\"l1 is {l1} and id is {id(l1)}\")"
   ]
  },
  {
   "cell_type": "markdown",
   "id": "7f2ad53f",
   "metadata": {},
   "source": [
    "# deepcopy()"
   ]
  },
  {
   "cell_type": "code",
   "execution_count": 38,
   "id": "cafe2bfa",
   "metadata": {},
   "outputs": [],
   "source": [
    "import copy\n",
    "la = [[1, 2, 3], [4, 5, 6], [7, 8, 9]]\n",
    "lb = copy.deepcopy(la)"
   ]
  },
  {
   "cell_type": "code",
   "execution_count": 39,
   "id": "bc6aea7a",
   "metadata": {},
   "outputs": [
    {
     "data": {
      "text/plain": [
       "[[1, 2, 3], [4, 5, 6], [7, 8, 9]]"
      ]
     },
     "execution_count": 39,
     "metadata": {},
     "output_type": "execute_result"
    }
   ],
   "source": [
    "lb"
   ]
  },
  {
   "cell_type": "code",
   "execution_count": 40,
   "id": "cc202e0c",
   "metadata": {
    "scrolled": true
   },
   "outputs": [],
   "source": [
    "la.append(['anil'])"
   ]
  },
  {
   "cell_type": "code",
   "execution_count": 41,
   "id": "352c07ac",
   "metadata": {},
   "outputs": [
    {
     "data": {
      "text/plain": [
       "[[1, 2, 3], [4, 5, 6], [7, 8, 9], ['anil']]"
      ]
     },
     "execution_count": 41,
     "metadata": {},
     "output_type": "execute_result"
    }
   ],
   "source": [
    "la"
   ]
  },
  {
   "cell_type": "code",
   "execution_count": 42,
   "id": "93a49a19",
   "metadata": {},
   "outputs": [
    {
     "data": {
      "text/plain": [
       "[[1, 2, 3], [4, 5, 6], [7, 8, 9]]"
      ]
     },
     "execution_count": 42,
     "metadata": {},
     "output_type": "execute_result"
    }
   ],
   "source": [
    "lb"
   ]
  },
  {
   "cell_type": "code",
   "execution_count": 43,
   "id": "d9e60d75",
   "metadata": {},
   "outputs": [],
   "source": [
    "la[1][0] = 'x'"
   ]
  },
  {
   "cell_type": "code",
   "execution_count": 44,
   "id": "a8225c24",
   "metadata": {},
   "outputs": [
    {
     "data": {
      "text/plain": [
       "[[1, 2, 3], ['x', 5, 6], [7, 8, 9], ['anil']]"
      ]
     },
     "execution_count": 44,
     "metadata": {},
     "output_type": "execute_result"
    }
   ],
   "source": [
    "la"
   ]
  },
  {
   "cell_type": "code",
   "execution_count": 45,
   "id": "a2c707f1",
   "metadata": {},
   "outputs": [
    {
     "data": {
      "text/plain": [
       "[[1, 2, 3], [4, 5, 6], [7, 8, 9]]"
      ]
     },
     "execution_count": 45,
     "metadata": {},
     "output_type": "execute_result"
    }
   ],
   "source": [
    "lb"
   ]
  },
  {
   "cell_type": "code",
   "execution_count": 46,
   "id": "4bea1e75",
   "metadata": {},
   "outputs": [
    {
     "name": "stdout",
     "output_type": "stream",
     "text": [
      "la is [[1, 2, 3], ['x', 5, 6], [7, 8, 9], ['anil']] and id is 140515526134528\n",
      "lb is [[1, 2, 3], [4, 5, 6], [7, 8, 9]] and id is 140515526144064\n"
     ]
    }
   ],
   "source": [
    "# Both the list values and id's are not the same.\n",
    "print(f\"la is {la} and id is {id(la)}\")\n",
    "print(f\"lb is {lb} and id is {id(lb)}\")"
   ]
  },
  {
   "cell_type": "code",
   "execution_count": null,
   "id": "be42675e",
   "metadata": {},
   "outputs": [],
   "source": []
  }
 ],
 "metadata": {
  "kernelspec": {
   "display_name": "Python 3 (ipykernel)",
   "language": "python",
   "name": "python3"
  },
  "language_info": {
   "codemirror_mode": {
    "name": "ipython",
    "version": 3
   },
   "file_extension": ".py",
   "mimetype": "text/x-python",
   "name": "python",
   "nbconvert_exporter": "python",
   "pygments_lexer": "ipython3",
   "version": "3.9.12"
  }
 },
 "nbformat": 4,
 "nbformat_minor": 5
}

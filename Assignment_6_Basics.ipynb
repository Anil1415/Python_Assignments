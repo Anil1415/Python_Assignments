{
 "cells": [
  {
   "cell_type": "code",
   "execution_count": null,
   "id": "9be34a18",
   "metadata": {},
   "outputs": [],
   "source": [
    "1. What are escape characters, and how do you use them?"
   ]
  },
  {
   "cell_type": "code",
   "execution_count": null,
   "id": "938cf67c",
   "metadata": {},
   "outputs": [],
   "source": [
    "Escape characters are used in strings which helps in printing spaces, new lines and tab space. \n",
    "backslash (\\) is used."
   ]
  },
  {
   "cell_type": "code",
   "execution_count": 1,
   "id": "1a452625",
   "metadata": {},
   "outputs": [
    {
     "ename": "SyntaxError",
     "evalue": "invalid syntax (830743133.py, line 1)",
     "output_type": "error",
     "traceback": [
      "\u001b[0;36m  Input \u001b[0;32mIn [1]\u001b[0;36m\u001b[0m\n\u001b[0;31m    print(\" \"Delhi\" is the capital city of India\")\u001b[0m\n\u001b[0m             ^\u001b[0m\n\u001b[0;31mSyntaxError\u001b[0m\u001b[0;31m:\u001b[0m invalid syntax\n"
     ]
    }
   ],
   "source": [
    "print(\" \"Delhi\" is the capital city of India\")"
   ]
  },
  {
   "cell_type": "code",
   "execution_count": 2,
   "id": "50cd4a55",
   "metadata": {
    "scrolled": true
   },
   "outputs": [
    {
     "name": "stdout",
     "output_type": "stream",
     "text": [
      " \"Delhi\" is the capital city of India\n"
     ]
    }
   ],
   "source": [
    "print(\" \\\"Delhi\\\" is the capital city of India\")"
   ]
  },
  {
   "cell_type": "code",
   "execution_count": null,
   "id": "f41799bd",
   "metadata": {},
   "outputs": [],
   "source": []
  },
  {
   "cell_type": "code",
   "execution_count": null,
   "id": "1a7fa99a",
   "metadata": {},
   "outputs": [],
   "source": [
    "2. What do the escape characters n and t stand for?"
   ]
  },
  {
   "cell_type": "code",
   "execution_count": null,
   "id": "c68e3f2b",
   "metadata": {},
   "outputs": [],
   "source": [
    "\\n --> for new line\n",
    "\\t --> for tab space "
   ]
  },
  {
   "cell_type": "code",
   "execution_count": null,
   "id": "84dceb32",
   "metadata": {},
   "outputs": [],
   "source": []
  },
  {
   "cell_type": "code",
   "execution_count": null,
   "id": "fa33fe1c",
   "metadata": {},
   "outputs": [],
   "source": [
    "3. What is the way to include backslash characters in a string?"
   ]
  },
  {
   "cell_type": "code",
   "execution_count": 3,
   "id": "017b77e1",
   "metadata": {},
   "outputs": [
    {
     "name": "stdout",
     "output_type": "stream",
     "text": [
      "this prints \\ backslash\n"
     ]
    }
   ],
   "source": [
    "print(\"this prints \\\\ backslash\")"
   ]
  },
  {
   "cell_type": "code",
   "execution_count": null,
   "id": "98e86296",
   "metadata": {},
   "outputs": [],
   "source": []
  },
  {
   "cell_type": "code",
   "execution_count": null,
   "id": "aa899bcd",
   "metadata": {},
   "outputs": [],
   "source": [
    "4. The string \"Howl's Moving Castle\" is a correct value. \n",
    "Why isn't the single quote character in the word Howl's not escaped a problem?\n",
    "\n",
    "Sol:\n",
    "    When the string is enclosed between double quote and used (') in between, it won't cause an error."
   ]
  },
  {
   "cell_type": "code",
   "execution_count": 4,
   "id": "6bac4e17",
   "metadata": {
    "scrolled": true
   },
   "outputs": [
    {
     "name": "stdout",
     "output_type": "stream",
     "text": [
      "Howl's Moving Castle\n",
      "Howl\"s Moving Castle\n"
     ]
    }
   ],
   "source": [
    "print(\"Howl's Moving Castle\" )\n",
    "print('Howl\"s Moving Castle')"
   ]
  },
  {
   "cell_type": "code",
   "execution_count": 5,
   "id": "3be8d24e",
   "metadata": {},
   "outputs": [
    {
     "ename": "SyntaxError",
     "evalue": "invalid syntax (2399584445.py, line 1)",
     "output_type": "error",
     "traceback": [
      "\u001b[0;36m  Input \u001b[0;32mIn [5]\u001b[0;36m\u001b[0m\n\u001b[0;31m    print('Howl's Moving Castle')\u001b[0m\n\u001b[0m                ^\u001b[0m\n\u001b[0;31mSyntaxError\u001b[0m\u001b[0;31m:\u001b[0m invalid syntax\n"
     ]
    }
   ],
   "source": [
    "print('Howl's Moving Castle')"
   ]
  },
  {
   "cell_type": "code",
   "execution_count": null,
   "id": "184e0f2e",
   "metadata": {},
   "outputs": [],
   "source": []
  },
  {
   "cell_type": "code",
   "execution_count": null,
   "id": "c671406f",
   "metadata": {},
   "outputs": [],
   "source": [
    "5. How do you write a string of newlines if you don't want to use the n character?\n",
    "\n",
    "Sol:\n",
    "    Using multiline strings, we can print next line without using \\n character"
   ]
  },
  {
   "cell_type": "code",
   "execution_count": 6,
   "id": "119f2794",
   "metadata": {},
   "outputs": [
    {
     "name": "stdout",
     "output_type": "stream",
     "text": [
      "Hi there!Good Morning\n"
     ]
    }
   ],
   "source": [
    "print(\"Hi there!Good Morning\")"
   ]
  },
  {
   "cell_type": "code",
   "execution_count": 7,
   "id": "acea5f3c",
   "metadata": {},
   "outputs": [
    {
     "name": "stdout",
     "output_type": "stream",
     "text": [
      "Hi there!\n",
      "Good Morning\n"
     ]
    }
   ],
   "source": [
    "print(\"\"\"Hi there!\n",
    "Good Morning\"\"\")"
   ]
  },
  {
   "cell_type": "code",
   "execution_count": null,
   "id": "a58c3b72",
   "metadata": {},
   "outputs": [],
   "source": []
  },
  {
   "cell_type": "code",
   "execution_count": null,
   "id": "b02e382e",
   "metadata": {},
   "outputs": [],
   "source": [
    "6. What are the values of the given expressions?\n",
    "    'Hello, world!'[1]\n",
    "    'Hello, world!'[0:5]\n",
    "    'Hello, world!'[:5]\n",
    "    'Hello, world!'[3:]"
   ]
  },
  {
   "cell_type": "code",
   "execution_count": 8,
   "id": "b821bcd8",
   "metadata": {},
   "outputs": [
    {
     "data": {
      "text/plain": [
       "'e'"
      ]
     },
     "execution_count": 8,
     "metadata": {},
     "output_type": "execute_result"
    }
   ],
   "source": [
    "'Hello, world!'[1]"
   ]
  },
  {
   "cell_type": "code",
   "execution_count": 9,
   "id": "1960fd39",
   "metadata": {},
   "outputs": [
    {
     "data": {
      "text/plain": [
       "'Hello'"
      ]
     },
     "execution_count": 9,
     "metadata": {},
     "output_type": "execute_result"
    }
   ],
   "source": [
    "'Hello, world!'[0:5]"
   ]
  },
  {
   "cell_type": "code",
   "execution_count": 10,
   "id": "168d71ca",
   "metadata": {},
   "outputs": [
    {
     "data": {
      "text/plain": [
       "'Hello'"
      ]
     },
     "execution_count": 10,
     "metadata": {},
     "output_type": "execute_result"
    }
   ],
   "source": [
    "'Hello, world!'[:5]"
   ]
  },
  {
   "cell_type": "code",
   "execution_count": 11,
   "id": "b386f438",
   "metadata": {},
   "outputs": [
    {
     "data": {
      "text/plain": [
       "'lo, world!'"
      ]
     },
     "execution_count": 11,
     "metadata": {},
     "output_type": "execute_result"
    }
   ],
   "source": [
    "'Hello, world!'[3:]"
   ]
  },
  {
   "cell_type": "code",
   "execution_count": null,
   "id": "f8317cd9",
   "metadata": {},
   "outputs": [],
   "source": []
  },
  {
   "cell_type": "code",
   "execution_count": null,
   "id": "a2d869ae",
   "metadata": {},
   "outputs": [],
   "source": [
    "7. What are the values of the following expressions?\n",
    "    'Hello'.upper()\n",
    "    'Hello'.upper().isupper()\n",
    "    'Hello'.upper().lower()"
   ]
  },
  {
   "cell_type": "code",
   "execution_count": 12,
   "id": "630eee51",
   "metadata": {},
   "outputs": [
    {
     "data": {
      "text/plain": [
       "'HELLO'"
      ]
     },
     "execution_count": 12,
     "metadata": {},
     "output_type": "execute_result"
    }
   ],
   "source": [
    "'Hello'.upper()"
   ]
  },
  {
   "cell_type": "code",
   "execution_count": 13,
   "id": "b965c717",
   "metadata": {},
   "outputs": [
    {
     "data": {
      "text/plain": [
       "True"
      ]
     },
     "execution_count": 13,
     "metadata": {},
     "output_type": "execute_result"
    }
   ],
   "source": [
    "'Hello'.upper().isupper()"
   ]
  },
  {
   "cell_type": "code",
   "execution_count": 14,
   "id": "68f773b0",
   "metadata": {},
   "outputs": [
    {
     "data": {
      "text/plain": [
       "'hello'"
      ]
     },
     "execution_count": 14,
     "metadata": {},
     "output_type": "execute_result"
    }
   ],
   "source": [
    "'Hello'.upper().lower()"
   ]
  },
  {
   "cell_type": "code",
   "execution_count": null,
   "id": "b315b8d3",
   "metadata": {},
   "outputs": [],
   "source": []
  },
  {
   "cell_type": "code",
   "execution_count": null,
   "id": "76611061",
   "metadata": {},
   "outputs": [],
   "source": [
    "8. What are the values of the following expressions?\n",
    "    'Remember, remember, the fifth of July.'.split()\n",
    "    '-'.join('There can only one.'.split())"
   ]
  },
  {
   "cell_type": "code",
   "execution_count": 15,
   "id": "be91f3ce",
   "metadata": {},
   "outputs": [
    {
     "data": {
      "text/plain": [
       "['Remember,', 'remember,', 'the', 'fifth', 'of', 'July.']"
      ]
     },
     "execution_count": 15,
     "metadata": {},
     "output_type": "execute_result"
    }
   ],
   "source": [
    "'Remember, remember, the fifth of July.'.split()"
   ]
  },
  {
   "cell_type": "code",
   "execution_count": 16,
   "id": "1f830069",
   "metadata": {},
   "outputs": [
    {
     "data": {
      "text/plain": [
       "'There_can_only_one.'"
      ]
     },
     "execution_count": 16,
     "metadata": {},
     "output_type": "execute_result"
    }
   ],
   "source": [
    "'_'.join('There can only one.'.split())"
   ]
  },
  {
   "cell_type": "code",
   "execution_count": null,
   "id": "0d2f8b3e",
   "metadata": {},
   "outputs": [],
   "source": []
  },
  {
   "cell_type": "code",
   "execution_count": null,
   "id": "3ac1a148",
   "metadata": {},
   "outputs": [],
   "source": []
  },
  {
   "cell_type": "code",
   "execution_count": null,
   "id": "8c086eca",
   "metadata": {},
   "outputs": [],
   "source": [
    "9. What are the methods for right-justifying, left-justifying, and centering a string?\n",
    "\n",
    "Sol:\n",
    "    The functions rjust(), ljust(), center() are the string methods for right-justify, left-justify \n",
    "    and center a string in given width and filled with character (defaullt is space) respectively."
   ]
  },
  {
   "cell_type": "code",
   "execution_count": 17,
   "id": "e3e7f1e0",
   "metadata": {},
   "outputs": [
    {
     "name": "stdout",
     "output_type": "stream",
     "text": [
      "\n",
      "The original string is : \n",
      "Hello\n",
      "\n",
      "The left aligned string is :\n",
      "Hello++++++++++++++++++++ \n",
      "\n",
      "Center aligned string with fillchr:\n",
      "++++++++++Hello++++++++++ \n",
      "\n",
      "right aligned string with fillchr:\n",
      "++++++++++++++++++++Hello\n"
     ]
    }
   ],
   "source": [
    "greetings = \"Hello\"\n",
    "  \n",
    "print (f\"\\nThe original string is : \\n{greetings}\")\n",
    "  \n",
    "print (f\"\\nThe left aligned string is :\\n{greetings.ljust(25,'+')} \")\n",
    "\n",
    "print (f\"\\nCenter aligned string with fillchr:\\n{greetings.center(25,'+')} \")\n",
    "\n",
    "print (f\"\\nright aligned string with fillchr:\\n{greetings.rjust(25,'+')}\")\n"
   ]
  },
  {
   "cell_type": "code",
   "execution_count": null,
   "id": "e62000a1",
   "metadata": {},
   "outputs": [],
   "source": []
  },
  {
   "cell_type": "code",
   "execution_count": null,
   "id": "f3894ce7",
   "metadata": {},
   "outputs": [],
   "source": [
    "10. What is the best way to remove whitespace characters from the start or end?"
   ]
  },
  {
   "cell_type": "code",
   "execution_count": 18,
   "id": "9444973b",
   "metadata": {},
   "outputs": [],
   "source": [
    "a = \" Good Morning \""
   ]
  },
  {
   "cell_type": "code",
   "execution_count": 19,
   "id": "b521a4be",
   "metadata": {},
   "outputs": [
    {
     "data": {
      "text/plain": [
       "'Good Morning '"
      ]
     },
     "execution_count": 19,
     "metadata": {},
     "output_type": "execute_result"
    }
   ],
   "source": [
    "a.lstrip()"
   ]
  },
  {
   "cell_type": "code",
   "execution_count": 20,
   "id": "15c49340",
   "metadata": {},
   "outputs": [
    {
     "data": {
      "text/plain": [
       "' Good Morning'"
      ]
     },
     "execution_count": 20,
     "metadata": {},
     "output_type": "execute_result"
    }
   ],
   "source": [
    "a.rstrip()"
   ]
  },
  {
   "cell_type": "code",
   "execution_count": 21,
   "id": "9fa880fd",
   "metadata": {},
   "outputs": [
    {
     "data": {
      "text/plain": [
       "'Good Morning'"
      ]
     },
     "execution_count": 21,
     "metadata": {},
     "output_type": "execute_result"
    }
   ],
   "source": [
    "a.strip()"
   ]
  },
  {
   "cell_type": "code",
   "execution_count": 22,
   "id": "887f98f1",
   "metadata": {},
   "outputs": [
    {
     "data": {
      "text/plain": [
       "'GoodMorning'"
      ]
     },
     "execution_count": 22,
     "metadata": {},
     "output_type": "execute_result"
    }
   ],
   "source": [
    "''.join(a.split())"
   ]
  },
  {
   "cell_type": "code",
   "execution_count": null,
   "id": "8b1932b5",
   "metadata": {},
   "outputs": [],
   "source": []
  }
 ],
 "metadata": {
  "kernelspec": {
   "display_name": "Python 3 (ipykernel)",
   "language": "python",
   "name": "python3"
  },
  "language_info": {
   "codemirror_mode": {
    "name": "ipython",
    "version": 3
   },
   "file_extension": ".py",
   "mimetype": "text/x-python",
   "name": "python",
   "nbconvert_exporter": "python",
   "pygments_lexer": "ipython3",
   "version": "3.9.12"
  }
 },
 "nbformat": 4,
 "nbformat_minor": 5
}

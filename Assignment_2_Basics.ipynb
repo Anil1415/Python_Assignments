{
 "cells": [
  {
   "cell_type": "code",
   "execution_count": null,
   "id": "245d9dcf",
   "metadata": {},
   "outputs": [],
   "source": [
    "1.What are the two values of the Boolean data type? How do you write them?\n",
    "\n",
    "Sol:\n",
    "    The two values of the Boolean data type are True and False.\n",
    "    For both the types, first letter should be denoted by Capital Letter."
   ]
  },
  {
   "cell_type": "markdown",
   "id": "9bd95559",
   "metadata": {},
   "source": []
  },
  {
   "cell_type": "code",
   "execution_count": null,
   "id": "f3f88f02",
   "metadata": {},
   "outputs": [],
   "source": [
    "2. What are the three different types of Boolean operators?\n",
    "\n",
    "Sol:\n",
    "    and, or, not are the three types of Boolean operators.\n",
    "    "
   ]
  },
  {
   "cell_type": "markdown",
   "id": "63cb1af6",
   "metadata": {},
   "source": []
  },
  {
   "cell_type": "code",
   "execution_count": null,
   "id": "d1a73631",
   "metadata": {},
   "outputs": [],
   "source": [
    "3. \n",
    "\"\"\" \n",
    "    Make a list of each Boolean operator's truth tables\n",
    "    (i.e. every possible combination of \n",
    "     Boolean values for the operator and what it evaluate ).\n",
    "\"\"\"\n",
    "sol:\n",
    "    \n",
    "    A     |  B    | A and B | A or B | not A\n",
    "    True  | True  | True    | True   | False\n",
    "    True  | False | False   | True   |\n",
    "    False | True  | False   | True   | True\n",
    "    False | False | False   | False  |\n",
    "    \n",
    "    "
   ]
  },
  {
   "cell_type": "markdown",
   "id": "ce5bd6b5",
   "metadata": {},
   "source": []
  },
  {
   "cell_type": "code",
   "execution_count": null,
   "id": "3b8d96a0",
   "metadata": {},
   "outputs": [],
   "source": [
    "4. What are the values of the following expressions?\n",
    "\n",
    "        (5 > 4) and (3 == 5) --> False\n",
    "    \n",
    "        not (5 > 4)          --> False\n",
    "        \n",
    "        (5 > 4) or (3 == 5)  --> True\n",
    "        \n",
    "        not ((5 > 4) or (3 == 5))--> False\n",
    "        \n",
    "        (True and True) and (True == False)--> False\n",
    "        \n",
    "        (not False) or (not True)          --> True\n"
   ]
  },
  {
   "cell_type": "markdown",
   "id": "f4139fc3",
   "metadata": {},
   "source": []
  },
  {
   "cell_type": "code",
   "execution_count": null,
   "id": "48e82cbe",
   "metadata": {},
   "outputs": [],
   "source": [
    "5. What are the six comparison operators?\n",
    "\n",
    "Sol:\n",
    "    less tha(<), lesss than or equal to (<=), greater than(>), \n",
    "    greater than or equal to (>=), equal to (==), not equal to (!=).\n",
    "    \n",
    "    These comparision operators are used to compare two values and returns a boolean value."
   ]
  },
  {
   "cell_type": "markdown",
   "id": "bf15022f",
   "metadata": {},
   "source": []
  },
  {
   "cell_type": "code",
   "execution_count": null,
   "id": "51aecebb",
   "metadata": {},
   "outputs": [],
   "source": [
    "6. How do you tell the difference between the equal to and assignment operators? \n",
    "    Describe a condition and when you would use one.\n",
    "    \n",
    "    Sol:\n",
    "        == --> equality comparison operator is used to check whether two expressions on both \n",
    "        sides are equal or not.\n",
    "        eg: 2 == 4 returns False\n",
    "        \n",
    "    \n",
    "        =  --> assignment operator is used when assign a value to a variable.\n",
    "        eg: a = 2\n",
    "        \n",
    "    \n"
   ]
  },
  {
   "cell_type": "markdown",
   "id": "5a4dac54",
   "metadata": {},
   "source": []
  },
  {
   "cell_type": "code",
   "execution_count": null,
   "id": "ad0243de",
   "metadata": {},
   "outputs": [],
   "source": [
    "7. Identify the three blocks in this code:\n",
    "    spam = 0\n",
    "    if spam == 10:\n",
    "    print('eggs')\n",
    "    if spam > 5:\n",
    "    print('bacon')\n",
    "    else:\n",
    "    print('ham')\n",
    "    print('spam')\n",
    "    print('spam')\n"
   ]
  },
  {
   "cell_type": "code",
   "execution_count": 1,
   "id": "af764fa5",
   "metadata": {},
   "outputs": [
    {
     "name": "stdout",
     "output_type": "stream",
     "text": [
      "ham\n",
      "spam\n",
      "spam\n"
     ]
    }
   ],
   "source": [
    "spam = 0\n",
    "\n",
    "if spam == 10:\n",
    "    print('eggs')\n",
    "if spam > 5:\n",
    "    print('bacon')\n",
    "else:\n",
    "    print('ham')\n",
    "    print('spam')\n",
    "    print('spam')"
   ]
  },
  {
   "cell_type": "markdown",
   "id": "54f32473",
   "metadata": {},
   "source": []
  },
  {
   "cell_type": "code",
   "execution_count": null,
   "id": "717e3430",
   "metadata": {},
   "outputs": [],
   "source": [
    "8. Write code that prints Hello if 1 is stored in spam, prints Howdy if 2 is stored in spam,and prints Greetings!\n",
    "    if anything else is stored in spam."
   ]
  },
  {
   "cell_type": "code",
   "execution_count": 2,
   "id": "1bd008f6",
   "metadata": {},
   "outputs": [
    {
     "name": "stdout",
     "output_type": "stream",
     "text": [
      "Greetings!\n"
     ]
    }
   ],
   "source": [
    "spam = 8\n",
    "if spam == 1:\n",
    "    print('Hello')\n",
    "elif spam == 2:\n",
    "    print('Howdy')\n",
    "else:\n",
    "    print('Greetings!')"
   ]
  },
  {
   "cell_type": "markdown",
   "id": "33c1608e",
   "metadata": {},
   "source": []
  },
  {
   "cell_type": "code",
   "execution_count": null,
   "id": "2372a6d5",
   "metadata": {},
   "outputs": [],
   "source": [
    "9.If your programme is stuck in an endless loop, what keys you’ll press?\n",
    "Sol:\n",
    "    While using jupyter notebook, you need to interupt the kernel when code runs in infinite loop. \n",
    "    Or you can use break statement in the code to stop this iteration.\n",
    "    "
   ]
  },
  {
   "cell_type": "code",
   "execution_count": 3,
   "id": "07de12ea",
   "metadata": {},
   "outputs": [
    {
     "name": "stdout",
     "output_type": "stream",
     "text": [
      "0\n"
     ]
    }
   ],
   "source": [
    "while True:\n",
    "    print(0)\n",
    "    break"
   ]
  },
  {
   "cell_type": "markdown",
   "id": "3b10a1d3",
   "metadata": {},
   "source": []
  },
  {
   "cell_type": "code",
   "execution_count": null,
   "id": "4512d6bc",
   "metadata": {},
   "outputs": [],
   "source": [
    "10. How can you tell the difference between break and continue?\n",
    "\n",
    "    Sol:\n",
    "        break is a control loop statement which terminate the iteration when the given condition is satisfied.\n",
    "        \n",
    "        continue is also a loop control statement opposite to the break statement, \n",
    "        it makes the loop to go for the next iteration.\n",
    "        "
   ]
  },
  {
   "cell_type": "markdown",
   "id": "a316bd5b",
   "metadata": {},
   "source": []
  },
  {
   "cell_type": "code",
   "execution_count": null,
   "id": "5cd55474",
   "metadata": {},
   "outputs": [],
   "source": [
    "11. In a for loop, what is the difference between range(10), range(0, 10), and range(0, 10, 1)?\n",
    "\n",
    "Sol:\n",
    "    All of the above range functions returns the same values in for loop from 0 to 9. \n",
    "    The stop number is never included.\n",
    "    \n",
    "    range(10) --> range(stop)\n",
    "    range(0, 10) --> range(start, stop)\n",
    "    range(0, 10, 1) --> range(start, stop, step)"
   ]
  },
  {
   "cell_type": "code",
   "execution_count": 4,
   "id": "8709e6dc",
   "metadata": {},
   "outputs": [
    {
     "name": "stdout",
     "output_type": "stream",
     "text": [
      "The value of range(10) is: 0\n",
      "The value of range(10) is: 1\n",
      "The value of range(10) is: 2\n",
      "The value of range(10) is: 3\n",
      "The value of range(10) is: 4\n",
      "The value of range(10) is: 5\n",
      "The value of range(10) is: 6\n",
      "The value of range(10) is: 7\n",
      "The value of range(10) is: 8\n",
      "The value of range(10) is: 9\n",
      "The value of range(0,10) is: 0\n",
      "The value of range(0,10) is: 1\n",
      "The value of range(0,10) is: 2\n",
      "The value of range(0,10) is: 3\n",
      "The value of range(0,10) is: 4\n",
      "The value of range(0,10) is: 5\n",
      "The value of range(0,10) is: 6\n",
      "The value of range(0,10) is: 7\n",
      "The value of range(0,10) is: 8\n",
      "The value of range(0,10) is: 9\n",
      "The value of range(0, 10, 1) is: 0\n",
      "The value of range(0, 10, 1) is: 1\n",
      "The value of range(0, 10, 1) is: 2\n",
      "The value of range(0, 10, 1) is: 3\n",
      "The value of range(0, 10, 1) is: 4\n",
      "The value of range(0, 10, 1) is: 5\n",
      "The value of range(0, 10, 1) is: 6\n",
      "The value of range(0, 10, 1) is: 7\n",
      "The value of range(0, 10, 1) is: 8\n",
      "The value of range(0, 10, 1) is: 9\n",
      " The value of range(10) is : [0, 1, 2, 3, 4, 5, 6, 7, 8, 9] \n",
      " The value of range(0,10) is : [0, 1, 2, 3, 4, 5, 6, 7, 8, 9] \n",
      " The value of range(0,10,1) is : [0, 1, 2, 3, 4, 5, 6, 7, 8, 9] \n"
     ]
    }
   ],
   "source": [
    "for i in range(10):\n",
    "    print(f\"The value of range(10) is: {i}\")\n",
    "    \n",
    "for i in range(0,10):\n",
    "    print(f\"The value of range(0,10) is: {i}\")\n",
    "for i in range(0, 10, 1):\n",
    "    print(f\"The value of range(0, 10, 1) is: {i}\")\n",
    "    \n",
    "print(f\" The value of range(10) is : {list(range(10))} \")\n",
    "print(f\" The value of range(0,10) is : {list(range(0,10))} \")\n",
    "print(f\" The value of range(0,10,1) is : {list(range(0,10,1))} \")"
   ]
  },
  {
   "cell_type": "markdown",
   "id": "4f1d1e31",
   "metadata": {},
   "source": []
  },
  {
   "cell_type": "code",
   "execution_count": null,
   "id": "9be5877a",
   "metadata": {},
   "outputs": [],
   "source": [
    "12. Write a short program that prints the numbers 1 to 10 using a for loop.\n",
    "Then write an equivalent program that prints the numbers 1 to 10 using a while loop."
   ]
  },
  {
   "cell_type": "code",
   "execution_count": 5,
   "id": "b31becc7",
   "metadata": {},
   "outputs": [
    {
     "name": "stdout",
     "output_type": "stream",
     "text": [
      "1\n",
      "2\n",
      "3\n",
      "4\n",
      "5\n",
      "6\n",
      "7\n",
      "8\n",
      "9\n",
      "10\n"
     ]
    }
   ],
   "source": [
    "for i in range(1,10+1):\n",
    "    print(i)"
   ]
  },
  {
   "cell_type": "code",
   "execution_count": 6,
   "id": "b843dc10",
   "metadata": {},
   "outputs": [
    {
     "name": "stdout",
     "output_type": "stream",
     "text": [
      "1\n",
      "2\n",
      "3\n",
      "4\n",
      "5\n",
      "6\n",
      "7\n",
      "8\n",
      "9\n",
      "10\n"
     ]
    }
   ],
   "source": [
    "i=1\n",
    "while i<=10:\n",
    "    print(i)\n",
    "    i = i+1"
   ]
  },
  {
   "cell_type": "markdown",
   "id": "2888dcdc",
   "metadata": {},
   "source": []
  },
  {
   "cell_type": "code",
   "execution_count": null,
   "id": "8a303710",
   "metadata": {},
   "outputs": [],
   "source": [
    "13. If you had a function named bacon() inside a module named spam, how would you call it after importing spam?"
   ]
  },
  {
   "cell_type": "code",
   "execution_count": 7,
   "id": "9127cbd8",
   "metadata": {},
   "outputs": [],
   "source": [
    "import spam"
   ]
  },
  {
   "cell_type": "code",
   "execution_count": 8,
   "id": "88a99271",
   "metadata": {},
   "outputs": [],
   "source": [
    "from spam import bacon"
   ]
  },
  {
   "cell_type": "code",
   "execution_count": 9,
   "id": "04e44013",
   "metadata": {},
   "outputs": [
    {
     "name": "stdout",
     "output_type": "stream",
     "text": [
      "bacon\n"
     ]
    }
   ],
   "source": [
    "bacon()"
   ]
  },
  {
   "cell_type": "markdown",
   "id": "f263521a",
   "metadata": {},
   "source": []
  }
 ],
 "metadata": {
  "kernelspec": {
   "display_name": "Python 3 (ipykernel)",
   "language": "python",
   "name": "python3"
  },
  "language_info": {
   "codemirror_mode": {
    "name": "ipython",
    "version": 3
   },
   "file_extension": ".py",
   "mimetype": "text/x-python",
   "name": "python",
   "nbconvert_exporter": "python",
   "pygments_lexer": "ipython3",
   "version": "3.9.12"
  }
 },
 "nbformat": 4,
 "nbformat_minor": 5
}
